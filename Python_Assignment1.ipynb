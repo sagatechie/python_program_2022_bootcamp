{
  "nbformat": 4,
  "nbformat_minor": 0,
  "metadata": {
    "colab": {
      "provenance": []
    },
    "kernelspec": {
      "name": "python3",
      "display_name": "Python 3"
    }
  },
  "cells": [
    {
      "cell_type": "markdown",
      "metadata": {
        "id": "oW-HYsx9BggT"
      },
      "source": [
        "1. Write a program which will find all such numbers which are divisible by 7 but are not a multiple of 5, between 2000 and 3200 (both included). The numbers obtained should be printed in a comma-separated sequence on a single line.1."
      ]
    },
    {
      "cell_type": "code",
      "metadata": {
        "id": "ZQ7obgN2AWuV",
        "colab": {
          "base_uri": "https://localhost:8080/",
          "height": 54
        },
        "outputId": "37869756-ab5f-4c65-ccd4-0f6a82d62955"
      },
      "source": [
        "lst = []\n",
        "for x in range(2000,3201):\n",
        "    if (x % 7 == 0) and (x % 5 != 0):\n",
        "        lst.append(str(x))\n",
        "print(','.join(lst))"
      ],
      "execution_count": null,
      "outputs": [
        {
          "output_type": "stream",
          "text": [
            "2002,2009,2016,2023,2037,2044,2051,2058,2072,2079,2086,2093,2107,2114,2121,2128,2142,2149,2156,2163,2177,2184,2191,2198,2212,2219,2226,2233,2247,2254,2261,2268,2282,2289,2296,2303,2317,2324,2331,2338,2352,2359,2366,2373,2387,2394,2401,2408,2422,2429,2436,2443,2457,2464,2471,2478,2492,2499,2506,2513,2527,2534,2541,2548,2562,2569,2576,2583,2597,2604,2611,2618,2632,2639,2646,2653,2667,2674,2681,2688,2702,2709,2716,2723,2737,2744,2751,2758,2772,2779,2786,2793,2807,2814,2821,2828,2842,2849,2856,2863,2877,2884,2891,2898,2912,2919,2926,2933,2947,2954,2961,2968,2982,2989,2996,3003,3017,3024,3031,3038,3052,3059,3066,3073,3087,3094,3101,3108,3122,3129,3136,3143,3157,3164,3171,3178,3192,3199\n"
          ],
          "name": "stdout"
        }
      ]
    },
    {
      "cell_type": "markdown",
      "metadata": {
        "id": "cJlgaqYyCHeb"
      },
      "source": [
        "2. Write a Python program to accept the user's first and last name and then getting them printed in the the reverse order with a space between first name and last name."
      ]
    },
    {
      "cell_type": "code",
      "metadata": {
        "id": "f2T5mWqvCc2g",
        "colab": {
          "base_uri": "https://localhost:8080/",
          "height": 88
        },
        "outputId": "e2324253-89de-4e3b-baec-2fbe32e32a60"
      },
      "source": [
        "FN=input(\"Enter your fname: \")\n",
        "LN=input(\"Enter your lname: \")\n",
        "print('My name is {} {}'.format(LN,FN))"
      ],
      "execution_count": null,
      "outputs": [
        {
          "output_type": "stream",
          "text": [
            "Enter your fname: Nanda\n",
            "Enter your lname: Sagar\n",
            "My name is Sagar Nanda\n"
          ],
          "name": "stdout"
        }
      ]
    },
    {
      "cell_type": "markdown",
      "metadata": {
        "id": "-HYC8T9lC3Vl"
      },
      "source": [
        "3. Write a Python program to find the volume of a sphere with diameter 12 cm Formula: V=4/3 * π *  r3"
      ]
    },
    {
      "cell_type": "code",
      "metadata": {
        "id": "omNUT1jhDEVS",
        "colab": {
          "base_uri": "https://localhost:8080/",
          "height": 34
        },
        "outputId": "5de20816-1317-488a-b8e1-1c1e4bdb5ff9"
      },
      "source": [
        "pi= 3.14\n",
        "r=12/2\n",
        "V=4/3*pi*r**3\n",
        "print('The volume of the sphere is: ',V)"
      ],
      "execution_count": null,
      "outputs": [
        {
          "output_type": "stream",
          "text": [
            "The volume of the sphere is:  904.3199999999999\n"
          ],
          "name": "stdout"
        }
      ]
    }
  ]
}