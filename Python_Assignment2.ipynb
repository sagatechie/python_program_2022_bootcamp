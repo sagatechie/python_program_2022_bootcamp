{
  "nbformat": 4,
  "nbformat_minor": 0,
  "metadata": {
    "colab": {
      "provenance": []
    },
    "kernelspec": {
      "name": "python3",
      "display_name": "Python 3"
    }
  },
  "cells": [
    {
      "cell_type": "markdown",
      "metadata": {
        "id": "iHydJexUE7IN"
      },
      "source": [
        "1. Create the below pattern using nested for loop in Python\n"
      ]
    },
    {
      "cell_type": "code",
      "metadata": {
        "id": "n83I47L4FKkG",
        "colab": {
          "base_uri": "https://localhost:8080/",
          "height": 187
        },
        "outputId": "20b03a21-6d14-49be-f6c5-5d5d2a69f937"
      },
      "source": [
        "rows = 5\n",
        "for i in range(0, 5):\n",
        "    for j in range(0, i + 1):\n",
        "        print(\"*\", end=' ')\n",
        "    print(\" \")\n",
        "\n",
        "for i in range(5, 0, -1):\n",
        "    for j in range(0, i - 1):\n",
        "        print(\"*\", end=' ')\n",
        "    print(\" \")"
      ],
      "execution_count": null,
      "outputs": [
        {
          "output_type": "stream",
          "text": [
            "*  \n",
            "* *  \n",
            "* * *  \n",
            "* * * *  \n",
            "* * * * *  \n",
            "* * * *  \n",
            "* * *  \n",
            "* *  \n",
            "*  \n",
            " \n"
          ],
          "name": "stdout"
        }
      ]
    },
    {
      "cell_type": "markdown",
      "metadata": {
        "id": "63xcOiQsFWhJ"
      },
      "source": [
        "2.Write a Python program to reverse a word after accepting the input from the user.\n",
        "Sample Output:\n",
        "Input word: ineuron\n",
        "Output: norueni"
      ]
    },
    {
      "cell_type": "code",
      "metadata": {
        "id": "NaA__2WxGAGD",
        "colab": {
          "base_uri": "https://localhost:8080/",
          "height": 71
        },
        "outputId": "ca31c823-1d51-40d0-cbf2-05c89a54e51e"
      },
      "source": [
        "str=input(\"Enter Input String: \")\n",
        "reverse_str=str[::-1]\n",
        "print(reverse_str)"
      ],
      "execution_count": null,
      "outputs": [
        {
          "output_type": "stream",
          "text": [
            "Enter Input String: ineuron\n",
            "norueni\n"
          ],
          "name": "stdout"
        }
      ]
    }
  ]
}