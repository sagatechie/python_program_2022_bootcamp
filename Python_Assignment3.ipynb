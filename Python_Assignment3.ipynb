{
  "nbformat": 4,
  "nbformat_minor": 0,
  "metadata": {
    "colab": {
      "provenance": []
    },
    "kernelspec": {
      "name": "python3",
      "display_name": "Python 3"
    }
  },
  "cells": [
    {
      "cell_type": "markdown",
      "metadata": {
        "id": "gEvU2U4z8w5J"
      },
      "source": [
        "1.1 Write a Python Program to implement your own myreduce() function which works exactly like Python's built-in function reduce()"
      ]
    },
    {
      "cell_type": "code",
      "metadata": {
        "id": "3OU7lKg18mMr",
        "colab": {
          "base_uri": "https://localhost:8080/",
          "height": 34
        },
        "outputId": "f5c332df-376f-4ab3-a7d3-2465361b90a0"
      },
      "source": [
        "def sum(a,b):\n",
        "    return a+b\n",
        "\n",
        "def myreduce(function,sequence):\n",
        "    first = sequence[0]\n",
        "    for i in sequence[1:]:\n",
        "        first=function(first,i)\n",
        "    return first\n",
        "\n",
        "s= myreduce(sum,[1,2,3,4,5,6])\n",
        "print(s)"
      ],
      "execution_count": null,
      "outputs": [
        {
          "output_type": "stream",
          "text": [
            "21\n"
          ],
          "name": "stdout"
        }
      ]
    },
    {
      "cell_type": "markdown",
      "metadata": {
        "id": "IDbJ9mg-9D_r"
      },
      "source": [
        "1.2 Write a Python program to implement your own myfilter() function which works exactly like Python's built-in function filter()"
      ]
    },
    {
      "cell_type": "code",
      "metadata": {
        "id": "WjXwpqRi9PTs",
        "colab": {
          "base_uri": "https://localhost:8080/",
          "height": 34
        },
        "outputId": "f46ab0b9-bc9b-4085-90b6-16169faed28c"
      },
      "source": [
        "def is_even(a):\n",
        "    if a % 2 == 0:\n",
        "        return True\n",
        "    else:\n",
        "        return False\n",
        "\n",
        "def myfilter(func, sequence):\n",
        "    result=[]\n",
        "    for i in sequence:\n",
        "        if func(i):\n",
        "            result.append(i)\n",
        "    return result\n",
        "print(list(myfilter(is_even, [1, 3, 10, 45, 22, 16, 50,33])))\n"
      ],
      "execution_count": null,
      "outputs": [
        {
          "output_type": "stream",
          "text": [
            "[10, 22, 16, 50]\n"
          ],
          "name": "stdout"
        }
      ]
    },
    {
      "cell_type": "markdown",
      "metadata": {
        "id": "nyKw1Rxj9b31"
      },
      "source": [
        "2 Implement List comprehensions to produce the following lists.\n",
        "Write List comprehensions to produce the following Lists\n",
        "\n",
        "['x', 'xx', 'xxx', 'xxxx', 'y', 'yy', 'yyy', 'yyyy', 'z', 'zz', 'zzz', 'zzzz']\n",
        "\n",
        "['x', 'y', 'z', 'xx', 'yy', 'zz', 'xxx', 'yyy', 'zzz', 'xxxx', 'yyyy', 'zzzz']\n",
        "\n",
        "[[2], [3], [4], [3], [4], [5], [4], [5], [6]]\n",
        "\n",
        "[[2, 3, 4, 5], [3, 4, 5, 6],[4, 5, 6, 7], [5, 6, 7, 8]]\n",
        "\n",
        "[(1, 1), (2, 1), (3, 1), (1, 2), (2, 2), (3, 2), (1, 3), (2, 3), (3, 3)]"
      ]
    },
    {
      "cell_type": "code",
      "metadata": {
        "id": "tEnszIDH9oA_",
        "colab": {
          "base_uri": "https://localhost:8080/"
        },
        "outputId": "547a5aca-3d6d-460c-c9e2-d6e75e2a3902"
      },
      "source": [
        "old_list = ['x', 'y', 'z']\n",
        "new_list = [i * num for i in old_list for num in range(1, 5)]\n",
        "print(str(new_list))\n",
        "print('###############################################################################')\n",
        "\n",
        "list_old=['x','y','z']\n",
        "list_new = [i * num for num in range(1, 5) for i in list_old]\n",
        "print(str(list_new))\n",
        "\n",
        "print('###############################################################################')\n",
        "\n",
        "my_old_list=[2,3,4]\n",
        "my_new_list=[[i + num] for i in my_old_list for num in range(0,3)]\n",
        "print(str(my_new_list))\n",
        "print('###############################################################################')\n",
        "\n",
        "my_input=[2,3,4,5]\n",
        "my_output=[[i+num for i in my_input] for num in range(0,4)]\n",
        "print(str(my_output))\n",
        "print('###############################################################################')\n",
        "\n",
        "input=[1,2,3]\n",
        "output=[(b,a) for a in input for b in input]\n",
        "print(str(output))\n",
        "\n",
        "\n"
      ],
      "execution_count": null,
      "outputs": [
        {
          "output_type": "stream",
          "text": [
            "['x', 'xx', 'xxx', 'xxxx', 'y', 'yy', 'yyy', 'yyyy', 'z', 'zz', 'zzz', 'zzzz']\n",
            "###############################################################################\n",
            "['x', 'y', 'z', 'xx', 'yy', 'zz', 'xxx', 'yyy', 'zzz', 'xxxx', 'yyyy', 'zzzz']\n",
            "###############################################################################\n",
            "[[2], [3], [4], [3], [4], [5], [4], [5], [6]]\n",
            "###############################################################################\n",
            "[[2, 3, 4, 5], [3, 4, 5, 6], [4, 5, 6, 7], [5, 6, 7, 8]]\n",
            "###############################################################################\n",
            "[(1, 1), (2, 1), (3, 1), (1, 2), (2, 2), (3, 2), (1, 3), (2, 3), (3, 3)]\n"
          ],
          "name": "stdout"
        }
      ]
    }
  ]
}