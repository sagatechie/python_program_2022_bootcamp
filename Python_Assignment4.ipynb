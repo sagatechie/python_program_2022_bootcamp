{
  "nbformat": 4,
  "nbformat_minor": 0,
  "metadata": {
    "colab": {
      "provenance": []
    },
    "kernelspec": {
      "name": "python3",
      "display_name": "Python 3"
    }
  },
  "cells": [
    {
      "cell_type": "markdown",
      "metadata": {
        "id": "hU_oIJCkOxi_"
      },
      "source": [
        "1.1 Write a Python Program(with class concepts) to find the area of the triangle using the below\n",
        "formula.\n",
        "area = (s*(s-a)*(s-b)*(s-c)) ** 0.5\n",
        "Function to take the length of the sides of triangle from user should be defined in the parent class and function to calculate the area should be defined in subclass."
      ]
    },
    {
      "cell_type": "code",
      "metadata": {
        "id": "Xhmb2dgoOoEa",
        "colab": {
          "base_uri": "https://localhost:8080/",
          "height": 34
        },
        "outputId": "e0415fc5-8a16-41ca-b96d-dab1ab4a3adc"
      },
      "source": [
        "import math\n",
        "class triangle:\n",
        "\n",
        "    def __init__(self, a, b, c):\n",
        "          self.a = a\n",
        "          self.b = b\n",
        "          self.c = c\n",
        "\n",
        "    def area(self):\n",
        "            s = (self.a + self.b + self.c) / 2\n",
        "            area = math.sqrt(s * (s - self.a) * (s - self.b) * (s - self.c))\n",
        "            return area\n",
        "\n",
        "if __name__ == '__main__':\n",
        "           t1 = triangle(4, 13, 15)\n",
        "           print('area = ', t1.area())"
      ],
      "execution_count": null,
      "outputs": [
        {
          "output_type": "stream",
          "text": [
            "area =  24.0\n"
          ],
          "name": "stdout"
        }
      ]
    },
    {
      "cell_type": "markdown",
      "metadata": {
        "id": "20U9or5KO_Nv"
      },
      "source": [
        "1.2 Write a function filter_long_words() that takes a list of words and an integer n and returns the list of words that are longer than n."
      ]
    },
    {
      "cell_type": "code",
      "metadata": {
        "id": "7FnkiyWHPHfO",
        "colab": {
          "base_uri": "https://localhost:8080/",
          "height": 34
        },
        "outputId": "80986fbb-5795-4115-ac12-3086c4b7e775"
      },
      "source": [
        "def filter_Longword(list_ofWords,n):\n",
        "   return[i for i in list_ofWords if len(i) > n]\n",
        "\n",
        "print(filter_Longword(['stimulus', 'socialdistancing', 'testinomy', 'marinedrive', 'rajmachawal'], 7))\n"
      ],
      "execution_count": null,
      "outputs": [
        {
          "output_type": "stream",
          "text": [
            "['stimulus', 'socialdistancing', 'testinomy', 'marinedrive', 'rajmachawal']\n"
          ],
          "name": "stdout"
        }
      ]
    },
    {
      "cell_type": "markdown",
      "metadata": {
        "id": "cTBNqr2hPUxP"
      },
      "source": [
        "2.1 Write a Python program using function concept that maps list of words into a list of integers\n",
        "representing the lengths of the corresponding words.\n",
        "Hint: If a list [ ab,cde,erty] is passed on to the python function output should come as [2,3,4]\n",
        "Here 2,3 and 4 are the lengths of the words in the list."
      ]
    },
    {
      "cell_type": "code",
      "metadata": {
        "id": "6-o9b4SRPaxU",
        "colab": {
          "base_uri": "https://localhost:8080/",
          "height": 34
        },
        "outputId": "1352dddf-71e2-4099-9436-acc47beae8ca"
      },
      "source": [
        "input = ['ab', 'cde', 'erty']\n",
        "\n",
        "def findlength(input):\n",
        "    return list(map(lambda x: len(x), input))\n",
        "print(str(findlength(input)))"
      ],
      "execution_count": null,
      "outputs": [
        {
          "output_type": "stream",
          "text": [
            "[2, 3, 4]\n"
          ],
          "name": "stdout"
        }
      ]
    },
    {
      "cell_type": "markdown",
      "metadata": {
        "id": "2VZCFGpcPlR8"
      },
      "source": [
        "2.2 Write a Python function which takes a character (i.e. a string of length 1) and returns True if\n",
        "it is a vowel, False otherwise."
      ]
    },
    {
      "cell_type": "code",
      "metadata": {
        "id": "eLJbTV87Pm_0",
        "colab": {
          "base_uri": "https://localhost:8080/",
          "height": 51
        },
        "outputId": "08914da3-9035-4856-a2cb-0eab8bc7e35d"
      },
      "source": [
        "def isVowel(char):\n",
        "    return (char =='a'or char =='A'or char =='e'or char =='E'or char =='I'or char =='i'or char =='O'or char =='o'or char =='U'or char == 'u')\n",
        "\n",
        "\n",
        "char = input()\n",
        "ret = isVowel(char)\n",
        "print(ret)\n"
      ],
      "execution_count": null,
      "outputs": [
        {
          "output_type": "stream",
          "text": [
            "A\n",
            "True\n"
          ],
          "name": "stdout"
        }
      ]
    }
  ]
}