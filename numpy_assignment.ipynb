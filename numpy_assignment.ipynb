{
  "nbformat": 4,
  "nbformat_minor": 0,
  "metadata": {
    "colab": {
      "provenance": []
    },
    "kernelspec": {
      "name": "python3",
      "display_name": "Python 3"
    }
  },
  "cells": [
    {
      "cell_type": "markdown",
      "metadata": {
        "id": "WVPs8m4Du5VF"
      },
      "source": []
    },
    {
      "cell_type": "markdown",
      "metadata": {
        "id": "FXjwLOlMvBxN"
      },
      "source": [
        "Write a function so that the columns of the output matrix are powers of the input\n",
        "vector.\n",
        "The order of the powers is determined by the increasing boolean argument. Specifically, when\n",
        "increasing is False, the i-th output column is the input vector raised element-wise to the power\n",
        "of N - i - 1.\n",
        "\n",
        "HINT: Such a matrix with a geometric progression in each row is named for Alexandre-\n",
        "Theophile Vandermonde.\n",
        "\n",
        "Problem Statement 2:\n",
        "Given a sequence of n values x1, x2, ..., xn and a window size k>0, the k-th moving average of\n",
        "the given sequence is defined as follows:\n",
        "The moving average sequence has n-k+1 elements as shown below.\n",
        "The moving averages with k=4 of a ten-value sequence (n=10) is shown below\n",
        "i 1 2 3 4 5 6 7 8 9 10\n",
        "===== == == == == == == == == == ==\n",
        "Input 10 20 30 40 50 60 70 80 90 100\n",
        "y1 25 = (10+20+30+40)/4\n",
        "y2 35 = (20+30+40+50)/4\n",
        "y3 45 = (30+40+50+60)/4\n",
        "y4 55 = (40+50+60+70)/4\n",
        "y5 65 = (50+60+70+80)/4\n",
        "y6 75 = (60+70+80+90)/4\n",
        "y7 85 = (70+80+90+100)/4\n",
        "Thus, the moving average sequence has n-k+1=10-4+1=7 values.\n",
        "\n",
        "Question: Write a function to find moving average in an array over a window:\n",
        "Test it over [3, 5, 7, 2, 8, 10, 11, 65, 72, 81, 99, 100, 150] and window of 3."
      ]
    },
    {
      "cell_type": "code",
      "metadata": {
        "id": "5kHMcaC5vDwn"
      },
      "source": [
        "import numpy as np"
      ],
      "execution_count": null,
      "outputs": []
    },
    {
      "cell_type": "code",
      "metadata": {
        "id": "of5zb9xfvQIX"
      },
      "source": [
        "def alexTheVa(ipVector, n, increasing = False):\n",
        "    if increasing:\n",
        "        opMatrix = np.matrix([x**i for x in ipVector for i in range(n)]).reshape(ipVector.size, n)\n",
        "    else:\n",
        "        opMatrix = np.matrix([x**(n-i-1) for x in ipVector for i in range(n)]).reshape(ipVector.size, n)\n",
        "    return opMatrix"
      ],
      "execution_count": null,
      "outputs": []
    },
    {
      "cell_type": "code",
      "metadata": {
        "id": "88NgscoFvRIH"
      },
      "source": [
        "ipVector = np.array([1, 3, 5, 7, 9])\n",
        "n = 5"
      ],
      "execution_count": null,
      "outputs": []
    },
    {
      "cell_type": "code",
      "metadata": {
        "id": "pDlcCLMLvWa1",
        "outputId": "d13e2317-afbc-44d6-abd0-1aacbff4b612",
        "colab": {
          "base_uri": "https://localhost:8080/"
        }
      },
      "source": [
        "opMtarix_asc = alexTheVa(ipVector, n, True)\n",
        "opMtarix_asc"
      ],
      "execution_count": null,
      "outputs": [
        {
          "output_type": "execute_result",
          "data": {
            "text/plain": [
              "matrix([[   1,    1,    1,    1,    1],\n",
              "        [   1,    3,    9,   27,   81],\n",
              "        [   1,    5,   25,  125,  625],\n",
              "        [   1,    7,   49,  343, 2401],\n",
              "        [   1,    9,   81,  729, 6561]])"
            ]
          },
          "metadata": {
            "tags": []
          },
          "execution_count": 5
        }
      ]
    },
    {
      "cell_type": "code",
      "metadata": {
        "id": "kAzIJcCNvdCf",
        "outputId": "47083fbd-03cb-4086-d68d-b32ca135a960",
        "colab": {
          "base_uri": "https://localhost:8080/"
        }
      },
      "source": [
        "opMtarix_desc = alexTheVa(ipVector, n, False)\n",
        "opMtarix_desc"
      ],
      "execution_count": null,
      "outputs": [
        {
          "output_type": "execute_result",
          "data": {
            "text/plain": [
              "matrix([[   1,    1,    1,    1,    1],\n",
              "        [  81,   27,    9,    3,    1],\n",
              "        [ 625,  125,   25,    5,    1],\n",
              "        [2401,  343,   49,    7,    1],\n",
              "        [6561,  729,   81,    9,    1]])"
            ]
          },
          "metadata": {
            "tags": []
          },
          "execution_count": 6
        }
      ]
    },
    {
      "cell_type": "code",
      "metadata": {
        "id": "H_bMo5myvjBz"
      },
      "source": [
        "def movingAverage(inputValue, k):\n",
        "  m = 1\n",
        "  output = np.convolve(inputValue, np.ones(k), 'valid') / k\n",
        "  for i in output:\n",
        "    print(\"y{0} = {1:.2f}\".format(m, i))\n",
        "    m += 1"
      ],
      "execution_count": null,
      "outputs": []
    },
    {
      "cell_type": "code",
      "metadata": {
        "id": "HphaU8M-vpQr",
        "outputId": "83a62e7b-a5b6-4533-f7de-d9d3c5cc961d",
        "colab": {
          "base_uri": "https://localhost:8080/"
        }
      },
      "source": [
        "inputValue = np.array([3, 5, 7, 2, 8, 10, 11, 65, 72, 81, 99, 100, 150])\n",
        "k = 3\n",
        "movingAverage(inputValue, k)"
      ],
      "execution_count": null,
      "outputs": [
        {
          "output_type": "stream",
          "text": [
            "y1 = 5.00\n",
            "y2 = 4.67\n",
            "y3 = 5.67\n",
            "y4 = 6.67\n",
            "y5 = 9.67\n",
            "y6 = 28.67\n",
            "y7 = 49.33\n",
            "y8 = 72.67\n",
            "y9 = 84.00\n",
            "y10 = 93.33\n",
            "y11 = 116.33\n"
          ],
          "name": "stdout"
        }
      ]
    }
  ]
}