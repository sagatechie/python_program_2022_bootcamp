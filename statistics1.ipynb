{
  "nbformat": 4,
  "nbformat_minor": 0,
  "metadata": {
    "colab": {
      "provenance": []
    },
    "kernelspec": {
      "name": "python3",
      "display_name": "Python 3"
    }
  },
  "cells": [
    {
      "cell_type": "code",
      "metadata": {
        "id": "6F6gIaMwmOWj"
      },
      "source": [
        "Calculate the mean, median, mode and standard deviation for the problem statements 1& 2.\n",
        "Problem Statement 1:\n",
        "The marks awarded for an assignment set for a Year 8 class of 20 students were as follows:\n",
        "6 7 5 7 7 8 7 6 9 7 4 10 6 8 8 9 5 6 4 8"
      ],
      "execution_count": null,
      "outputs": []
    },
    {
      "cell_type": "code",
      "metadata": {
        "id": "YjkQ5dj7mZb0"
      },
      "source": [
        "import numpy as np\n",
        "from scipy import stats\n",
        "import math\n",
        "import statistics\n",
        "import os\n",
        "import sys"
      ],
      "execution_count": null,
      "outputs": []
    },
    {
      "cell_type": "code",
      "metadata": {
        "id": "dj9tUyiGmfe_"
      },
      "source": [
        "marks = np.asarray([6,7,5,7,7,8,7,6,9,7,4,10,6,8,8,9,5,6,4,8])"
      ],
      "execution_count": null,
      "outputs": []
    },
    {
      "cell_type": "code",
      "metadata": {
        "colab": {
          "base_uri": "https://localhost:8080/"
        },
        "id": "jfQWGfQVmr1A",
        "outputId": "05a50ce3-057d-4f0e-e00c-ae95dd0294bd"
      },
      "source": [
        "def stats(marks):\n",
        "    print(f\"The mean of the marks is {np.mean(marks)}\")\n",
        "    print(f\"The median of the marks is {np.median(marks)}\")\n",
        "    print(f\"The mode of the marks is {statistics.mode(marks)}\")\n",
        "    print(f\"The standard Deviation of the marks is {np.std(marks)}\")\n",
        "\n",
        "stats(marks)"
      ],
      "execution_count": null,
      "outputs": [
        {
          "output_type": "stream",
          "text": [
            "The mean of the marks is 6.85\n",
            "The median of the marks is 7.0\n",
            "The mode of the marks is 7\n",
            "The standard Deviation of the marks is 1.5898113095584647\n"
          ],
          "name": "stdout"
        }
      ]
    },
    {
      "cell_type": "markdown",
      "metadata": {
        "id": "-Yw64CePnL5i"
      },
      "source": [
        "Problem Statement 2:\n",
        "The number of calls from motorists per day for roadside service was recorded for a particular month:\n",
        "28, 122, 217, 130, 120, 86, 80, 90, 140, 120, 70, 40, 145, 113, 90, 68, 174, 194, 170,100, 75, 104, 97, 75,123, 100, 75, 104, 97, 75, 123, 100, 89, 120, 109"
      ]
    },
    {
      "cell_type": "code",
      "metadata": {
        "id": "7ILT6QXwndUq"
      },
      "source": [
        "calls_recorded =np.asarray([28, 122, 217, 130, 120, 86, 80, 90, 140, 120, 70, 40, 145, 113, 90, 68, 174, 194, 170,100, 75, 104, 97, 75,123, 100, 75, 104, 97, 75, 123, 100, 89, 120, 109])"
      ],
      "execution_count": null,
      "outputs": []
    },
    {
      "cell_type": "code",
      "metadata": {
        "colab": {
          "base_uri": "https://localhost:8080/"
        },
        "id": "RyZC9t9hnov9",
        "outputId": "57c5432e-1a7b-49cd-88e3-5ca8d7f02ebe"
      },
      "source": [
        "def stats(calls_recorded):\n",
        "    print(f\"The mean of the calls is {np.mean(calls_recorded)}\")\n",
        "    print(f\"The median of the calls is {np.median(calls_recorded)}\")\n",
        "    print(f\"The mode of the calls is {statistics.mode(calls_recorded)}\")\n",
        "    print(f\"The standard Deviation of the calls is {np.std(calls_recorded)}\")\n",
        "\n",
        "stats(calls_recorded)\n"
      ],
      "execution_count": null,
      "outputs": [
        {
          "output_type": "stream",
          "text": [
            "The mean of the calls is 107.51428571428572\n",
            "The median of the calls is 100.0\n",
            "The mode of the calls is 75\n",
            "The standard Deviation of the calls is 38.77287080168403\n"
          ],
          "name": "stdout"
        }
      ]
    },
    {
      "cell_type": "markdown",
      "metadata": {
        "id": "ElQnzI4zojBy"
      },
      "source": [
        "Problem Statement 3:\n",
        "The number of times I go to the gym in weekdays, are given below along with its associated probability:\n",
        "x = 0, 1, 2, 3, 4, 5\n",
        "f(x) = 0.09, 0.15, 0.40, 0.25, 0.10, 0.01\n",
        "Calculate the mean no. of workouts in a week. Also evaluate the variance involved in it."
      ]
    },
    {
      "cell_type": "code",
      "metadata": {
        "id": "1DHMO1RtolVQ"
      },
      "source": [
        "x = np.asarray([0,1,2,3,4,5])\n",
        "f_x = np.array([0.09,0.15,0.40,0.25,0.10,0.01])"
      ],
      "execution_count": null,
      "outputs": []
    },
    {
      "cell_type": "code",
      "metadata": {
        "colab": {
          "base_uri": "https://localhost:8080/"
        },
        "id": "6d4YRpT5osFa",
        "outputId": "c3cdda54-6799-4a87-f3c1-758a12e5464e"
      },
      "source": [
        "x.reshape((1,-1))\n",
        "f_x.reshape((-1,1))\n",
        "mean=np.dot(x,f_x)\n",
        "variance_of_x=(x-mean)**2\n",
        "variance = np.dot(variance_of_x.reshape(1,-1),f_x)\n",
        "print(f\"Mean number of workouts: {mean}\")\n",
        "print(f\"Variance of workouts: {variance}\")"
      ],
      "execution_count": null,
      "outputs": [
        {
          "output_type": "stream",
          "text": [
            "Mean number of workouts: 2.15\n",
            "Variance of workouts: [1.2275]\n"
          ],
          "name": "stdout"
        }
      ]
    },
    {
      "cell_type": "markdown",
      "metadata": {
        "id": "ckry9a5eo7-N"
      },
      "source": [
        "Problem Statement 4:\n",
        "Let the continuous random variable D denote the diameter of the hole drilled in an aluminum sheet. The target diameter to be achieved is 12.5mm. Random disturbances in the process often result in inaccuracy.\n",
        "Historical data shows that the distribution of D can be modelled by the PDF (𝑑) = 20𝑒−20(𝑑−12.5), 𝑑 ≥ 12.5. If a part with diameter > 12.6 mm needs to be scrapped, what is the proportion of those parts? What is the CDF when the diameter is of 11mm? What is your conclusion regarding the proportion of scraps?"
      ]
    },
    {
      "cell_type": "code",
      "metadata": {
        "id": "jjiO0pWKpAwv"
      },
      "source": [
        "from scipy import integrate"
      ],
      "execution_count": null,
      "outputs": []
    },
    {
      "cell_type": "code",
      "metadata": {
        "colab": {
          "base_uri": "https://localhost:8080/"
        },
        "id": "XGNJjwOwp5gw",
        "outputId": "dc61c196-edb0-484c-ab25-4cf630a73cf4"
      },
      "source": [
        "#PDF (𝑑) = 20𝑒−20(𝑑−12.5)\n",
        "#𝑑 ≥ 12.5\n",
        "PDF=lambda d:20*(np.exp((-20*(d-12.5))))\n",
        "x = 12.6\n",
        "P_x=integrate.quad(PDF,12.6,np.inf)\n",
        "y = 11\n",
        "CDF=integrate.quad(PDF,-np.inf,y)\n",
        "print(f\"Proportion of Parts need to scrapped when d >12.6mm is :{P_x[0]}\")\n",
        "print(f\"CDF when d= 11mm is:{CDF[0]}\")\n",
        "print(f\"Proportion of CDF when d>12.5mm is : {integrate.quad(PDF,12.5,np.inf)[0]}\")\n",
        "\n"
      ],
      "execution_count": null,
      "outputs": [
        {
          "output_type": "stream",
          "text": [
            "Proportion of Parts need to scrapped when d >12.6mm is :0.13533528323661398\n",
            "CDF when d= 11mm is:inf\n",
            "Proportion of CDF when d>12.5mm is : 1.0000000000000024\n"
          ],
          "name": "stdout"
        },
        {
          "output_type": "stream",
          "text": [
            "/usr/local/lib/python3.7/dist-packages/ipykernel_launcher.py:3: RuntimeWarning: overflow encountered in exp\n",
            "  This is separate from the ipykernel package so we can avoid doing imports until\n"
          ],
          "name": "stderr"
        }
      ]
    },
    {
      "cell_type": "markdown",
      "metadata": {
        "id": "m3W6aIswqglL"
      },
      "source": [
        "Conclusion\n",
        "it can be concluded that the function is only valid when d>=12.5.\n",
        "When d<12.5, the part can be reworked to 12.5 so no scrap in this case.\n",
        "PDF is not defined for d=11"
      ]
    },
    {
      "cell_type": "markdown",
      "metadata": {
        "id": "IMi90Bq3qpP4"
      },
      "source": [
        "Problem Statement 5:\n",
        "A company manufactures LED bulbs with a faulty rate of 30%. If I randomly select 6 chosen LEDs, what is the probability of having 2 faulty LEDs in my sample? Calculate the average value of this process. Also evaluate the standard deviation associated with it."
      ]
    },
    {
      "cell_type": "code",
      "metadata": {
        "colab": {
          "base_uri": "https://localhost:8080/",
          "height": 456
        },
        "id": "dBk2Yjkyqs5M",
        "outputId": "cd5512c3-2835-40d1-d131-b5e8dc1a5879"
      },
      "source": [
        "import matplotlib.pyplot as plt\n",
        "import seaborn as sns\n",
        "%matplotlib inline\n",
        "import pandas as pd\n",
        "import scipy.special\n",
        "\n",
        "#x = Faulty = 0.3\n",
        "#y = Not Faulty = 0.7\n",
        "x = 0.3\n",
        "y = 0.7\n",
        "df=pd.DataFrame({'a':[int(i) for i in range(7)],\n",
        "                 'B_a':[scipy.special.comb(6,i)*(x**i)*(y**(6-i)) for i in range(7)]})\n",
        "print(df.iloc[2])\n",
        "plt.figure(figsize=(15,5))\n",
        "sns.barplot('a','B_a',data=df)\n",
        "plt.xlabel('Number of Faulty LEDs')\n",
        "plt.ylabel('Probability of Fault')"
      ],
      "execution_count": null,
      "outputs": [
        {
          "output_type": "stream",
          "text": [
            "a      2.000000\n",
            "B_a    0.324135\n",
            "Name: 2, dtype: float64\n"
          ],
          "name": "stdout"
        },
        {
          "output_type": "stream",
          "text": [
            "/usr/local/lib/python3.7/dist-packages/seaborn/_decorators.py:43: FutureWarning: Pass the following variables as keyword args: x, y. From version 0.12, the only valid positional argument will be `data`, and passing other arguments without an explicit keyword will result in an error or misinterpretation.\n",
            "  FutureWarning\n"
          ],
          "name": "stderr"
        },
        {
          "output_type": "execute_result",
          "data": {
            "text/plain": [
              "Text(0, 0.5, 'Probability of Fault')"
            ]
          },
          "metadata": {
            "tags": []
          },
          "execution_count": 19
        },
        {
          "output_type": "display_data",
          "data": {
            "image/png": "[encoded data removed]",
            "text/plain": [
              "<Figure size 1080x360 with 1 Axes>"
            ]
          },
          "metadata": {
            "tags": [],
            "needs_background": "light"
          }
        }
      ]
    },
    {
      "cell_type": "code",
      "metadata": {
        "colab": {
          "base_uri": "https://localhost:8080/"
        },
        "id": "VXFWt8tbvhGm",
        "outputId": "c4669f03-407e-4814-a3bb-d646dc461523"
      },
      "source": [
        "df['Expected value']=df['a']*df['B_a']\n",
        "mean=np.round(df['Expected value'].sum())\n",
        "print('mean = {}'.format(mean))\n",
        "df['variance']=df['B_a']*(df['a']-mean)**2\n",
        "std=np.sqrt(df['variance'].sum())\n",
        "print(f\"Standard Deviation : {np.round(std)}\")"
      ],
      "execution_count": null,
      "outputs": [
        {
          "output_type": "stream",
          "text": [
            "mean = 2.0\n",
            "Standard Deviation : 1.0\n"
          ],
          "name": "stdout"
        }
      ]
    },
    {
      "cell_type": "markdown",
      "metadata": {
        "id": "zpvRHMsVvmf_"
      },
      "source": [
        "Problem Statement 6:\n",
        "Gaurav and Barakha are both preparing for entrance exams. Gaurav attempts to solve 8 questions per day with a correction rate of 75%, while Barakha averages around 12 questions per day with a correction rate of 45%. What is the probability that each of them will solve 5 questions correctly? What happens in cases of 4 and 6 correct solutions? What do you infer from it? What are the two main governing factors affecting their ability to solve questions correctly? Give a pictorial representation of the same to validate your answer."
      ]
    },
    {
      "cell_type": "code",
      "metadata": {
        "colab": {
          "base_uri": "https://localhost:8080/"
        },
        "id": "qI0xCdT8vn_n",
        "outputId": "bc8b5f3a-20cf-4922-fe64-63acc084aaf7"
      },
      "source": [
        "from scipy.stats import binom\n",
        "import numpy as np\n",
        "\n",
        "print(f\"Probability of each of them solving 5 questions correctly is:{binom.pmf(5,8,0.75)*binom.pmf(5,12,0.45)}\")\n",
        "print(f\"Probability of each of them solving 4,6 questions correctly is:{binom.pmf(4,8,0.75)*binom.pmf(6,12,0.45)}\")\n",
        "#their correction rates effect their combined probability"
      ],
      "execution_count": null,
      "outputs": [
        {
          "output_type": "stream",
          "text": [
            "Probability of each of them solving 5 questions correctly is:0.04619989057299217\n",
            "Probability of each of them solving 4,6 questions correctly is:0.018374956477894583\n"
          ],
          "name": "stdout"
        }
      ]
    },
    {
      "cell_type": "code",
      "metadata": {
        "id": "FwY_u-emv66N"
      },
      "source": [
        "def binom_plot(n,p,):\n",
        "    fig,ax=plt.subplots(1,1)\n",
        "    x = np.arange(binom.ppf(0.01, n, p),binom.ppf(0.99, n, p))\n",
        "    ax.plot(x, binom.pmf(x, n, p), 'bo', ms=8, label='binom pmf')\n",
        "    ax.vlines(x, 0, binom.pmf(x, n, p), colors='b', lw=5, alpha=0.5)"
      ],
      "execution_count": null,
      "outputs": []
    },
    {
      "cell_type": "code",
      "metadata": {
        "colab": {
          "base_uri": "https://localhost:8080/",
          "height": 513
        },
        "id": "SldN_SyvwC9P",
        "outputId": "4bcc4b06-876e-4852-ffba-2bbd4d3148ca"
      },
      "source": [
        "#Gaurav\n",
        "binom_plot(8,0.75)\n",
        "\n",
        "#Barakha\n",
        "binom_plot(12,0.45)"
      ],
      "execution_count": null,
      "outputs": [
        {
          "output_type": "display_data",
          "data": {
            "image/png": "[encoded data removed]",
            "text/plain": [
              "<Figure size 432x288 with 1 Axes>"
            ]
          },
          "metadata": {
            "tags": [],
            "needs_background": "light"
          }
        },
        {
          "output_type": "display_data",
          "data": {
            "image/png": "[encoded data removed]",
            "text/plain": [
              "<Figure size 432x288 with 1 Axes>"
            ]
          },
          "metadata": {
            "tags": [],
            "needs_background": "light"
          }
        }
      ]
    },
    {
      "cell_type": "code",
      "metadata": {
        "colab": {
          "base_uri": "https://localhost:8080/",
          "height": 282
        },
        "id": "RI4tCBWEwN4E",
        "outputId": "b44f4860-d34a-4501-b1cc-1361b0bdd2c5"
      },
      "source": [
        "fig,ax=plt.subplots(1,1)\n",
        "x = np.arange(1,11)\n",
        "ax.plot(x, binom.pmf(x,8,0.75)*binom.pmf(x,12,0.45), 'bo', ms=8, label='binom pmf')\n",
        "ax.vlines(x, 0, binom.pmf(x,8,0.75)*binom.pmf(x,12,0.45), colors='b', lw=5, alpha=0.5)\n",
        "#maximum combined probability observed at 6 question"
      ],
      "execution_count": null,
      "outputs": [
        {
          "output_type": "execute_result",
          "data": {
            "text/plain": [
              "<matplotlib.collections.LineCollection at 0x7f73a1819cd0>"
            ]
          },
          "metadata": {
            "tags": []
          },
          "execution_count": 26
        },
        {
          "output_type": "display_data",
          "data": {
            "image/png": "[encoded data removed]",
            "text/plain": [
              "<Figure size 432x288 with 1 Axes>"
            ]
          },
          "metadata": {
            "tags": [],
            "needs_background": "light"
          }
        }
      ]
    },
    {
      "cell_type": "code",
      "metadata": {
        "colab": {
          "base_uri": "https://localhost:8080/"
        },
        "id": "WmEnmd3-wVJs",
        "outputId": "ac37ce6d-f53c-4134-f040-108ecc944a1a"
      },
      "source": [
        "from scipy.stats import binom\n",
        "binom.pmf(5,8,0.75)*binom.pmf(5,12,0.45)"
      ],
      "execution_count": null,
      "outputs": [
        {
          "output_type": "execute_result",
          "data": {
            "text/plain": [
              "0.04619989057299217"
            ]
          },
          "metadata": {
            "tags": []
          },
          "execution_count": 27
        }
      ]
    },
    {
      "cell_type": "markdown",
      "metadata": {
        "id": "E8bYYm5VwZkk"
      },
      "source": [
        "Problem Statement 7\n",
        "Customers arrive at a rate of 72 per hour to my shop. What is the probability of 𝑘 customers arriving in 4 minutes? a) 5 customers, b) not more than 3 customers, c) more than 3 customers. Give a pictorial representation of the same to validate your answer."
      ]
    },
    {
      "cell_type": "code",
      "metadata": {
        "colab": {
          "base_uri": "https://localhost:8080/"
        },
        "id": "UG4A8ki_wbSd",
        "outputId": "c9ed2555-967f-4805-f394-54ea2bf07d45"
      },
      "source": [
        "from scipy.stats import poisson\n",
        "#We need to calculate average number of customers arriving per 4 minutes\n",
        "#72/60 customers come per minute\n",
        "mu = 4*(72/60) #customers come per 4 minutes\n",
        "print(f\"The probability of arriving 5 cutomers in 4 minutes is : {poisson.pmf(k=5,mu=mu)}\")\n",
        "print(f\"The probability of arriving not more than 3 customers in 4 minutes is : {poisson.pmf(k=3, mu=mu)}\")\n",
        "print(f'The Probability of more than 3 customers arriving in 4 minutes is : {1-poisson.cdf(k=3,mu=mu)}')"
      ],
      "execution_count": null,
      "outputs": [
        {
          "output_type": "stream",
          "text": [
            "The probability of arriving 5 cutomers in 4 minutes is : 0.17474768364388296\n",
            "The probability of arriving not more than 3 customers in 4 minutes is : 0.15169069760753714\n",
            "The Probability of more than 3 customers arriving in 4 minutes is : 0.7057700835034357\n"
          ],
          "name": "stdout"
        }
      ]
    },
    {
      "cell_type": "code",
      "metadata": {
        "colab": {
          "base_uri": "https://localhost:8080/",
          "height": 351
        },
        "id": "sw0evJr3wqdt",
        "outputId": "9edbcce7-bc75-496d-ba09-61f4dc422819"
      },
      "source": [
        "fig,ax = plt.subplots(1,1,figsize=(15,5))\n",
        "ax.plot(x, poisson.pmf(x,mu), 'bo', ms=8, label='poisson pmf')\n",
        "ax.vlines(x, 0, poisson.pmf(x, mu), colors='b', lw=5, alpha=0.5)\n",
        "plt.xlabel('Number of customers')\n",
        "plt.ylabel('Probability')"
      ],
      "execution_count": null,
      "outputs": [
        {
          "output_type": "execute_result",
          "data": {
            "text/plain": [
              "Text(0, 0.5, 'Probability')"
            ]
          },
          "metadata": {
            "tags": []
          },
          "execution_count": 29
        },
        {
          "output_type": "display_data",
          "data": {
            "image/png": "[encoded data removed]",
            "text/plain": [
              "<Figure size 1080x360 with 1 Axes>"
            ]
          },
          "metadata": {
            "tags": [],
            "needs_background": "light"
          }
        }
      ]
    },
    {
      "cell_type": "markdown",
      "metadata": {
        "id": "QxFPq2sew2vI"
      },
      "source": [
        "Problem Statement 7:\n",
        "I work as a data analyst in Aeon Learning Pvt. Ltd. After analyzing data, I make reports, where I have the efficiency of entering 77 words per minute with 6 errors per hour. What is the probability that I will commit 2 errors in a 455-word financial report? What happens when the no. of words increases/decreases (in case of 1000 words, 255 words)?\n",
        "How is the 𝜆 affected?\n",
        "How does it influence the PMF?\n",
        "Give a pictorial representation of the same to validate your answer."
      ]
    },
    {
      "cell_type": "code",
      "metadata": {
        "colab": {
          "base_uri": "https://localhost:8080/",
          "height": 388
        },
        "id": "ulNVzghnxAAe",
        "outputId": "2567af8b-def2-42dd-a3fc-ec78847afad5"
      },
      "source": [
        "from scipy.stats import poisson\n",
        "#Rate of entering=77 per minute\n",
        "#error rate= 6/hour=0.1 per minute\n",
        "#No of errors per word=0.1/77\n",
        "unit_mu=0.1/77\n",
        "def mu(n):\n",
        "    return n * unit_mu\n",
        "print(f\"The pobability of commiting 2 errors in 455 words financial report is :{poisson.pmf(2,mu=mu(455))}\")\n",
        "print(f\"The pobability of commiting 2 errors in 1000 words financial report is :{poisson.pmf(2,mu=mu(1000))}\")\n",
        "print(f\"The pobability of commiting 2 errors in 255 words financial report is :{poisson.pmf(2,mu=mu(255))}\")\n",
        "x=range(100,1000,50)\n",
        "mu=[i*unit_mu for i in x]\n",
        "fig,ax = plt.subplots(1,1,figsize=(15,5))\n",
        "ax.plot(x,poisson.pmf(2,mu), 'bo', ms=8, label='poisson pmf')\n",
        "ax.vlines(x,0, poisson.pmf(2,mu), colors='b', lw=5, alpha=0.5)\n",
        "#As the number of words increase probability of getting errors increases"
      ],
      "execution_count": null,
      "outputs": [
        {
          "output_type": "stream",
          "text": [
            "The pobability of commiting 2 errors in 455 words financial report is :0.09669027375144444\n",
            "The pobability of commiting 2 errors in 1000 words financial report is :0.23012815007300153\n",
            "The pobability of commiting 2 errors in 255 words financial report is :0.039377135392854104\n"
          ],
          "name": "stdout"
        },
        {
          "output_type": "execute_result",
          "data": {
            "text/plain": [
              "<matplotlib.collections.LineCollection at 0x7f73a195f2d0>"
            ]
          },
          "metadata": {
            "tags": []
          },
          "execution_count": 30
        },
        {
          "output_type": "display_data",
          "data": {
            "image/png": "[encoded data removed]",
            "text/plain": [
              "<Figure size 1080x360 with 1 Axes>"
            ]
          },
          "metadata": {
            "tags": [],
            "needs_background": "light"
          }
        }
      ]
    },
    {
      "cell_type": "code",
      "metadata": {
        "colab": {
          "base_uri": "https://localhost:8080/",
          "height": 337
        },
        "id": "BYVLuooTxH4C",
        "outputId": "440de2af-b0db-4e38-f2b7-f3bc71815d25"
      },
      "source": [
        "fig,ax = plt.subplots(1,1,figsize=(15,5))\n",
        "ax.plot(x,mu, 'bo', ms=8, label='poisson pmf')\n",
        "ax.vlines(x,0,mu, colors='b', lw=5, alpha=0.5)\n",
        "#Value of mu keeps on increasing with number of words"
      ],
      "execution_count": null,
      "outputs": [
        {
          "output_type": "execute_result",
          "data": {
            "text/plain": [
              "<matplotlib.collections.LineCollection at 0x7f73a17b7990>"
            ]
          },
          "metadata": {
            "tags": []
          },
          "execution_count": 31
        },
        {
          "output_type": "display_data",
          "data": {
            "image/png": "[encoded data removed]",
            "text/plain": [
              "<Figure size 1080x360 with 1 Axes>"
            ]
          },
          "metadata": {
            "tags": [],
            "needs_background": "light"
          }
        }
      ]
    },
    {
      "cell_type": "markdown",
      "metadata": {
        "id": "34Pz25dJxPn5"
      },
      "source": [
        "Problem 9 is same as Problem 4\n",
        "Problem Statement 10:\n",
        "Please compute the following:\n",
        "a) P(Z > 1.26), . P(Z < −0.86), P(Z > −1.37), P(−1.25 < Z < 0.37), . P(Z ≤ −4.6)\n",
        "b) Find the value 𝑧 such that 𝑃(𝑍 > 𝑧) = 0.05\n",
        "c) Find the value of 𝑧 such that 𝑃(−𝑧 < 𝑍 < 𝑧) = 0.99"
      ]
    },
    {
      "cell_type": "code",
      "metadata": {
        "colab": {
          "base_uri": "https://localhost:8080/"
        },
        "id": "GpFMSw7dxRMn",
        "outputId": "8a444dd1-7ef9-4627-8d9f-2d08b3dfc9c7"
      },
      "source": [
        "from scipy.stats import norm\n",
        "def P(z,b=-np.inf) :\n",
        "    return integrate.quad(norm.pdf,b,z)[0]\n",
        "\n",
        "print('P(Z>1.26) = %.5f'%(1-P(1.26)))\n",
        "print('P(Z<-0.86) = %.5f'%P(-0.86))\n",
        "print('P(Z>-1.37) = %.5f'%(1-P(-1.37)))\n",
        "print('P(−1.25 < Z < 0.37) = %.5f'%P(0.37,b=-1.25))\n",
        "print('P(Z ≤ −4.6) = %.5f'%P(-4.6))"
      ],
      "execution_count": null,
      "outputs": [
        {
          "output_type": "stream",
          "text": [
            "P(Z>1.26) = 0.10383\n",
            "P(Z<-0.86) = 0.19489\n",
            "P(Z>-1.37) = 0.91466\n",
            "P(−1.25 < Z < 0.37) = 0.53866\n",
            "P(Z ≤ −4.6) = 0.00000\n"
          ],
          "name": "stdout"
        }
      ]
    },
    {
      "cell_type": "code",
      "metadata": {
        "colab": {
          "base_uri": "https://localhost:8080/"
        },
        "id": "GGejxE8nxYOl",
        "outputId": "4db01221-2dc8-48cc-da60-0b0eae2a4afc"
      },
      "source": [
        "print('P(Z>z)=0.05 is %.2f'%(-1*norm.ppf(0.05)))\n",
        "print('𝑃(−𝑧 < 𝑍 < 𝑧) = 0.99 is %.2f'%(abs(norm.ppf(0.005))))"
      ],
      "execution_count": null,
      "outputs": [
        {
          "output_type": "stream",
          "text": [
            "P(Z>z)=0.05 is 1.64\n",
            "𝑃(−𝑧 < 𝑍 < 𝑧) = 0.99 is 2.58\n"
          ],
          "name": "stdout"
        }
      ]
    },
    {
      "cell_type": "markdown",
      "metadata": {
        "id": "0WMtlBHPxeKl"
      },
      "source": [
        "Problem Statement 11:\n",
        "The current flow in a copper wire follow a normal distribution with a mean of 10 𝑚A and a variance of 4 (𝑚𝐴)2.\n",
        "What is the probability that a current measurement will exceed 13 𝑚𝐴? What is the probability that a current measurement is between 9 and 11mA? Determine the current measurement which has a probability of 0.98."
      ]
    },
    {
      "cell_type": "code",
      "metadata": {
        "colab": {
          "base_uri": "https://localhost:8080/"
        },
        "id": "MYSMU3huxj2l",
        "outputId": "2efe4827-6bed-4380-d687-bf4b319eb0d0"
      },
      "source": [
        "mean = 10\n",
        "std = np.sqrt(4)\n",
        "\n",
        "def I(z, b=-np.inf):\n",
        "    z = (z-mean)/std\n",
        "    return integrate.quad(norm.pdf,b,z)[0]\n",
        "print(f\"Probability that current > 13mA is: {1-I(13)}\")\n",
        "print(f\"Probability that current is between 9 mA and 11 mA is : {1-I(11,b=9)}\")"
      ],
      "execution_count": null,
      "outputs": [
        {
          "output_type": "stream",
          "text": [
            "Probability that current > 13mA is: 0.06680720126885797\n",
            "Probability that current is between 9 mA and 11 mA is : 1.3085375387259144\n"
          ],
          "name": "stdout"
        }
      ]
    },
    {
      "cell_type": "markdown",
      "metadata": {
        "id": "PQ-7QKLmxpFb"
      },
      "source": [
        "Problem Statement 12:\n",
        "The shaft in a piston has its diameter normally distributed with a mean of 0.2508 inch and a standard deviation of 0.0005 inch. The specifications of the shaft are 0.2500 ∓0.0015 inch. What proportion of shafts are in sync with the specifications? If the process is centered so that the mean is equal to the target value of 0.2500, what proportion of shafts conform to the new specifications? What is your conclusion from this experiment?"
      ]
    },
    {
      "cell_type": "code",
      "metadata": {
        "colab": {
          "base_uri": "https://localhost:8080/"
        },
        "id": "mUHBhzwExq27",
        "outputId": "d0f98b0d-32b3-4dae-d799-88eeaa3c2662"
      },
      "source": [
        "mean_dia=0.2508\n",
        "std_dia=0.0005\n",
        "#specified dia in the range of 0.2485<d<0.2515\n",
        "#case-1 if mean_dia=0.2508\n",
        "def I(mean,std,a,b) :\n",
        "  #gives P(Z<=x)\n",
        "  a=(a-mean)/std\n",
        "  b=(b-mean)/std\n",
        "print(f\"Proportion of shafts with dia in range of 0.2485<d<0.2515 when mean diameter:{0.2508,I(0.2508,0.0005,0.2485,0.2515)}\")\n",
        "print(f\"Proportion of shafts with dia in range of 0.2485<d<0.2515 when mean diameter:{0.2500,I(0.2500,0.0005,0.2485,0.2515)}\")"
      ],
      "execution_count": null,
      "outputs": [
        {
          "output_type": "stream",
          "text": [
            "Proportion of shafts with dia in range of 0.2485<d<0.2515 when mean diameter:(0.2508, None)\n",
            "Proportion of shafts with dia in range of 0.2485<d<0.2515 when mean diameter:(0.25, None)\n"
          ],
          "name": "stdout"
        }
      ]
    },
    {
      "cell_type": "markdown",
      "metadata": {
        "id": "izdl_xGqx3JZ"
      },
      "source": [
        "Within the range of 0.2485<d<0.2515 A manufacturing process with mean of 0.25 gives maximum proportion of required shafts, there by reducing amount of scrap and reprocessing time.\n",
        "\n",
        "Mathematically, in a given range 0.2485<d<0.2515 , if there are two noraml distributrions (manufacturing processes) with same standard deviation,more area will be covered by the distribution whose mean is closer to mean of the interval i.e 0.25"
      ]
    }
  ]
}