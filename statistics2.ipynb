{
  "nbformat": 4,
  "nbformat_minor": 0,
  "metadata": {
    "colab": {
      "provenance": []
    },
    "kernelspec": {
      "name": "python3",
      "display_name": "Python 3"
    }
  },
  "cells": [
    {
      "cell_type": "markdown",
      "metadata": {
        "id": "HECSyjVgzSGM"
      },
      "source": [
        "Problem Statement 1:\n",
        "In each of the following situations, state whether it is a correctly stated hypothesis testing problem and why?\n",
        "1. 𝐻0: 𝜇 = 25, 𝐻1: 𝜇 ≠ 25\n",
        "2. 𝐻0: 𝜎 > 10, 𝐻1: 𝜎 = 10\n",
        "3. 𝐻0: 𝑥 = 50, 𝐻1: 𝑥 ≠ 50\n",
        "4. 𝐻0: 𝑝 = 0.1, 𝐻1: 𝑝 = 0.5\n",
        "5. 𝐻0: 𝑠 = 30, 𝐻1: 𝑠 > 30"
      ]
    },
    {
      "cell_type": "markdown",
      "metadata": {
        "id": "w7XSGmwYzXdO"
      },
      "source": [
        "\n",
        "1.   Yes, because values in both are statement about population or distribution, have equal values and has inequality in ull hypothesis\n",
        "2.   No, because null hypothesis has an eqaulity claim and alternate hypothesis has inequality.\n",
        "3. No, because hypothesis is stated in terms of statistics and not sample data.\n",
        "4. No, because values in both hypothesis is different and has equal sign.\n",
        "5. No, because hypothesis are always statements about population or     distribution and not about sample."
      ]
    },
    {
      "cell_type": "markdown",
      "metadata": {
        "id": "i1nXU8rh0tgh"
      },
      "source": [
        "\n",
        "Problem Statement 2:\n",
        "The college bookstore tells prospective students that the average cost of its textbooks is Rs. 52 with a standard deviation of Rs. 4.50. A group of smart statistics students thinks that the average cost is higher. To test the bookstore’s claim against their alternative, the students will select a random sample of size 100. Assume that the mean from their random sample is Rs. 52.80. Perform a hypothesis test at the 5% level of significance and state your decision."
      ]
    },
    {
      "cell_type": "code",
      "metadata": {
        "colab": {
          "base_uri": "https://localhost:8080/"
        },
        "id": "lZX2V6250wmk",
        "outputId": "e00ac3b6-c00e-4000-9556-c94e34218f4b"
      },
      "source": [
        "from scipy.stats import norm\n",
        "import numpy as np\n",
        "import math\n",
        "import scipy.stats as stats\n",
        "from scipy.stats import chi2_contingency\n",
        "\n",
        "p_mean = 52\n",
        "p_std = 4.50\n",
        "n = 100\n",
        "sample_mean = 52.80\n",
        "\n",
        "SE = p_std/n**0.5\n",
        "Z = (sample_mean-p_mean)/SE\n",
        "print(f\"Z score is:{Z}\")\n",
        "alpha=0.05  #test_significance\n",
        "print(f\"Critical region is {norm.ppf(alpha/2)}, {-norm.ppf(alpha/2)}\")"
      ],
      "execution_count": null,
      "outputs": [
        {
          "output_type": "stream",
          "text": [
            "Z score is:1.7777777777777715\n",
            "Critical region is -1.9599639845400545, 1.9599639845400545\n"
          ],
          "name": "stdout"
        }
      ]
    },
    {
      "cell_type": "markdown",
      "metadata": {
        "id": "fU0-SStP04_y"
      },
      "source": [
        "Hence, we can accept null hypothesis since z_score<critical region"
      ]
    },
    {
      "cell_type": "markdown",
      "metadata": {
        "id": "csfy7U_v08B8"
      },
      "source": [
        "Problem Statement 3:\n",
        "A certain chemical pollutant in the Genesee River has been constant for several years with mean μ = 34 ppm (parts per million) and standard deviation σ = 8 ppm. A group of factory representatives whose companies discharge liquids into the river is now claiming that they have lowered the average with improved filtration devices. A group of environmentalists will test to see if this is true at the 1% level of significance. Assume \\ that their sample of size 50 gives a mean of 32.5 ppm. Perform a hypothesis test at the 1% level of significance and state your decision."
      ]
    },
    {
      "cell_type": "code",
      "metadata": {
        "colab": {
          "base_uri": "https://localhost:8080/"
        },
        "id": "1pLwFicX1BEd",
        "outputId": "73364a81-de41-427e-acf0-7d21f509ad36"
      },
      "source": [
        "p_mean = 34\n",
        "p_std = 8\n",
        "n = 50\n",
        "sample_mean = 32.5\n",
        "\n",
        "SE = p_std/n**0.5   #standard Error\n",
        "Z = (sample_mean-p_mean)/SE\n",
        "print(f\"Z score is:{Z}\")\n",
        "alpha=0.01\n",
        "print(f\"Critical region is {norm.ppf(alpha/2)}, {-norm.ppf(alpha/2)}\")"
      ],
      "execution_count": null,
      "outputs": [
        {
          "output_type": "stream",
          "text": [
            "Z score is:-1.3258252147247767\n",
            "Critical region is -2.575829303548901, 2.575829303548901\n"
          ],
          "name": "stdout"
        }
      ]
    },
    {
      "cell_type": "markdown",
      "metadata": {
        "id": "_hfkK6Yz1FBN"
      },
      "source": [
        "Hence, we can conclude we can accept null hypothesis since critical_region<Z_score"
      ]
    },
    {
      "cell_type": "markdown",
      "metadata": {
        "id": "uM5RNU9E1Jta"
      },
      "source": [
        "Problem Statement 4:\n",
        "Based on population figures and other general information on the U.S. population, suppose it has been estimated that, on average, a family of four in the U.S. spends about $1135 annually on dental expenditures. Suppose further that a regional dental association wants to test to determine if this figure is accurate for their area of country. To test this, 22 families of 4 are randomly selected from the population in that area of the country and a log is kept of the family’s dental expenditure for one year. The resulting data are given below. Assuming, that dental expenditure is normally distributed in the population, use the data and an alpha of 0.5 to test the dental association’s hypothesis. 1008, 812, 1117, 1323, 1308, 1415, 831, 1021, 1287, 851, 930, 730, 699, 872, 913, 944, 954, 987, 1695, 995, 1003, 994"
      ]
    },
    {
      "cell_type": "code",
      "metadata": {
        "colab": {
          "base_uri": "https://localhost:8080/"
        },
        "id": "Af0wC9Er1QGE",
        "outputId": "7959543d-722f-402e-9a36-469a42e933c5"
      },
      "source": [
        "given_data=[1008, 812, 1117, 1323, 1308, 1415, 831, 1021, 1287, 851, 930, 730, 699, 872, 913, 944, 954, 987, 1695, 995, 1003, 994]\n",
        "p_mean =1135\n",
        "sample_std = np.std(given_data)\n",
        "n=22\n",
        "sample_mean = np.sum(given_data,axis=0)/len(given_data)\n",
        "SE = sample_std/n**0.5\n",
        "alpha = 0.5\n",
        "test_1 = (sample_mean-p_mean)/SE\n",
        "print(f\"t_Score is{test_1}\")\n",
        "print(f\"Critical Region is {stats.t.ppf((alpha/2),df=21)} {stats.t.ppf(1-(alpha/2),df=21)}\")"
      ],
      "execution_count": null,
      "outputs": [
        {
          "output_type": "stream",
          "text": [
            "t_Score is-2.070747228595759\n",
            "Critical Region is -0.6863519891164291 0.6863519891164291\n"
          ],
          "name": "stdout"
        }
      ]
    },
    {
      "cell_type": "markdown",
      "metadata": {
        "id": "0UlPxGwL1Vbd"
      },
      "source": [
        "We reject null hypothesis alpha=0.5 since it lies within critical region"
      ]
    },
    {
      "cell_type": "markdown",
      "metadata": {
        "id": "XP744hbK1bCg"
      },
      "source": [
        "Problem Statement 5:\n",
        "In a report prepared by the Economic Research Department of a major bank the Department manager maintains that the average annual family income on Metropolis is 48432. What do you conclude about the validity of the report if a random sample of 400 families shows and average income of 48,574 with a standard deviation of 2000?"
      ]
    },
    {
      "cell_type": "code",
      "metadata": {
        "colab": {
          "base_uri": "https://localhost:8080/"
        },
        "id": "dmg8H1Z61ePK",
        "outputId": "38a1eebc-29d2-4eda-fe8f-2420c29f9320"
      },
      "source": [
        "p_mean = 48432\n",
        "p_std = 2000\n",
        "n =400\n",
        "sample_mean =48574\n",
        "\n",
        "SE = p_std/n**0.5\n",
        "Z = (sample_mean-p_mean)/SE\n",
        "alpha=0.05\n",
        "print(f\"Critical region is {norm.ppf(alpha/2)} {-norm.ppf(alpha/2)}\")"
      ],
      "execution_count": null,
      "outputs": [
        {
          "output_type": "stream",
          "text": [
            "Critical region is -1.9599639845400545 1.9599639845400545\n"
          ],
          "name": "stdout"
        }
      ]
    },
    {
      "cell_type": "markdown",
      "metadata": {
        "id": "T9-5TDrr1ilT"
      },
      "source": [
        "We accept null hypothesis at alpha=0.05 since z_score<critical_region"
      ]
    },
    {
      "cell_type": "markdown",
      "metadata": {
        "id": "EWhmMblO1lO4"
      },
      "source": [
        "Problem Statement 6:\n",
        "Suppose that in past years the average price per square foot for warehouses in the United States has been 32.28. A national real estate investor wants to determine whether that figure has changed now. The investor hires a researcher who randomly samples 19 warehouses that are for sale across the United States and finds that the mean price per square foot is 31.67, with a standard deviation of 1.29. assume that the prices of warehouse footage are normally distributed in population. If the researcher uses a 5% level of significance, what statistical conclusion can be reached? What are the hypotheses?"
      ]
    },
    {
      "cell_type": "code",
      "metadata": {
        "colab": {
          "base_uri": "https://localhost:8080/"
        },
        "id": "xJ8hqms01qBk",
        "outputId": "29b5680c-0e4f-4354-9dcf-a4f052d7dd3f"
      },
      "source": [
        "p_mean =32.28\n",
        "n=19\n",
        "sample_mean =31.67\n",
        "sample_std =1.29\n",
        "alpha =0.05\n",
        "\n",
        "SE=sample_std/(n**0.5)\n",
        "t=(sample_mean-p_mean)/SE\n",
        "print(f\"t_score is {round((t),1)}\")\n",
        "print(f\"Critical region is {round(stats.t.ppf((alpha/2),df=18),1)} {-round(stats.t.ppf((alpha/2),df=18),1)}\")\n"
      ],
      "execution_count": null,
      "outputs": [
        {
          "output_type": "stream",
          "text": [
            "t_score is -2.1\n",
            "Critical region is -2.1 2.1\n"
          ],
          "name": "stdout"
        }
      ]
    },
    {
      "cell_type": "markdown",
      "metadata": {
        "id": "1hSxnu_l1tw7"
      },
      "source": [
        "we can reject null hypothesis at alpha=0.05 since it lies within critical region"
      ]
    },
    {
      "cell_type": "markdown",
      "metadata": {
        "id": "2dJ9b7BJ1v9k"
      },
      "source": [
        "Problem Statement 7:\n",
        "Fill in the blank spaces in the table and draw your conclusions from it.\n",
        "![image.png](data:image/png;base64,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)"
      ]
    },
    {
      "cell_type": "code",
      "metadata": {
        "colab": {
          "base_uri": "https://localhost:8080/"
        },
        "id": "YPleDsLN2DUu",
        "outputId": "799b7007-2759-42fc-a62c-d43035abf119"
      },
      "source": [
        "# Calculate Beta at Mu1 = 52\n",
        "n1 = 10\n",
        "Sig =2.5\n",
        "Mu1 =52\n",
        "\n",
        "p11 = (48.5 - Mu1)/(Sig/math.sqrt(n1))\n",
        "print(p11)\n",
        "p12 = (51.5 - Mu1)/(Sig/math.sqrt(n1))\n",
        "print(p12)\n",
        "# As p12 > p11, so our z score lies in between these two p12 < z < p11.\n",
        "# Find probability at these z score\n",
        "P11 = 0\n",
        "P12 = 0.2643\n",
        "# now Beta = p12 - p11\n",
        "Beta11 = P12 - P11\n",
        "print(f\"Beta at Mu1 = 52 is : {Beta11}\")"
      ],
      "execution_count": null,
      "outputs": [
        {
          "output_type": "stream",
          "text": [
            "-4.427188724235731\n",
            "-0.6324555320336759\n",
            "Beta at Mu1 = 52 is : 0.2643\n"
          ],
          "name": "stdout"
        }
      ]
    },
    {
      "cell_type": "code",
      "metadata": {
        "colab": {
          "base_uri": "https://localhost:8080/"
        },
        "id": "O4Ixf3aL2NrV",
        "outputId": "5326b37d-abcb-4d83-f1a8-65c49183ae3e"
      },
      "source": [
        "\n",
        "# Calculate Beta at Mu2 = 50.5\n",
        "n1 = 10\n",
        "Sig =2.5\n",
        "Mu2 =50.5\n",
        "\n",
        "p13 = (48.5 - Mu2)/(Sig/math.sqrt(n1))\n",
        "print(p13)\n",
        "p14 = (51.5 - Mu2)/(Sig/math.sqrt(n1))\n",
        "print(p14)\n",
        "\n",
        "# so our z score lies in between these two p13 < z < p14.\n",
        "# Find probability at these z score\n",
        "P13 = 0.0057\n",
        "P14 = 0.8962\n",
        "# now Beta = p13 +(1 - p14)\n",
        "Beta12 = P13 +(1- P14)\n",
        "print(f\"Beta at Mu2 = 50.5 is : {Beta12}\")"
      ],
      "execution_count": null,
      "outputs": [
        {
          "output_type": "stream",
          "text": [
            "-2.5298221281347035\n",
            "1.2649110640673518\n",
            "Beta at Mu2 = 50.5 is : 0.1095\n"
          ],
          "name": "stdout"
        }
      ]
    },
    {
      "cell_type": "code",
      "metadata": {
        "colab": {
          "base_uri": "https://localhost:8080/"
        },
        "id": "B4fMiXCi2oFY",
        "outputId": "59bc01f3-49e2-4520-ed98-d3afb87252e6"
      },
      "source": [
        " #Calculate Beta at Mu1 = 52\n",
        "n2 = 10\n",
        "Sig =2.5\n",
        "Mu1 =52\n",
        "\n",
        "p21 = (48.0 - Mu1)/(Sig/math.sqrt(n2))\n",
        "print(p21)\n",
        "p22 = (51.0 - Mu1)/(Sig/math.sqrt(n2))\n",
        "print(p22)\n",
        "\n",
        "# As p22 > p21, so our z score lies in between these two p22 < z < p21.\n",
        "# Find probability at these z score\n",
        "P21 = 0\n",
        "P22 = 0.1038\n",
        "# now Beta = p22 - p21\n",
        "Beta21 = P22 - P21\n",
        "print(f\"Beta at Mu2 = 52 is : {Beta21}\")"
      ],
      "execution_count": null,
      "outputs": [
        {
          "output_type": "stream",
          "text": [
            "-5.059644256269407\n",
            "-1.2649110640673518\n",
            "Beta at Mu2 = 52 is : 0.1038\n"
          ],
          "name": "stdout"
        }
      ]
    },
    {
      "cell_type": "code",
      "metadata": {
        "colab": {
          "base_uri": "https://localhost:8080/"
        },
        "id": "KLhQ8Bq528d2",
        "outputId": "83075f1e-6fad-44f2-d48a-f3e8c8aa54a9"
      },
      "source": [
        "# Calculate Beta at Mu2 = 50.5\n",
        "n2 = 10\n",
        "Sig =2.5\n",
        "Mu2 =50.5\n",
        "\n",
        "p23 = (48 - Mu2)/(Sig/math.sqrt(n2))\n",
        "print(p23)\n",
        "p24 = (51 - Mu2)/(Sig/math.sqrt(n2))\n",
        "print(p24)\n",
        "\n",
        "# so our z score lies in between these two p13 < z < p14.\n",
        "# Find probability at these z score\n",
        "P23 = 0.0008\n",
        "P24 = 0.7357\n",
        "# now Beta = p13 +(1 - p14)\n",
        "Beta22 = P23 +(1- P24)\n",
        "print(f\"Beta at Mu2 = 50.5 is : {Beta22}\")"
      ],
      "execution_count": null,
      "outputs": [
        {
          "output_type": "stream",
          "text": [
            "-3.1622776601683795\n",
            "0.6324555320336759\n",
            "Beta at Mu2 = 50.5 is : 0.2651\n"
          ],
          "name": "stdout"
        }
      ]
    },
    {
      "cell_type": "code",
      "metadata": {
        "colab": {
          "base_uri": "https://localhost:8080/"
        },
        "id": "Z_tnTLCl3Duv",
        "outputId": "c8abd47d-79d5-4f0b-9f27-7de7ef1e6c75"
      },
      "source": [
        "# Calculate Beta at Mu1 = 52\n",
        "n3 = 16\n",
        "Sig =2.5\n",
        "Mu1 =52\n",
        "\n",
        "p31 = (48.81 - Mu1)/(Sig/math.sqrt(n3))\n",
        "print(p31)\n",
        "p32 = (51.9 - Mu1)/(Sig/math.sqrt(n3))\n",
        "print(p32)\n",
        "\n",
        "# so our z score lies in between these two p31 < z < p32.\n",
        "# Find probability at these z score\n",
        "P31 = 0.4364\n",
        "P32 = 0\n",
        "# now Beta = p31 - p32\n",
        "Beta31 = P31 - P32\n",
        "print(f\"Beta at Mu2 = 52 is : {Beta31}\")"
      ],
      "execution_count": null,
      "outputs": [
        {
          "output_type": "stream",
          "text": [
            "-5.1039999999999965\n",
            "-0.16000000000000228\n",
            "Beta at Mu2 = 52 is : 0.4364\n"
          ],
          "name": "stdout"
        }
      ]
    },
    {
      "cell_type": "code",
      "metadata": {
        "colab": {
          "base_uri": "https://localhost:8080/"
        },
        "id": "flYPbSyI3JZs",
        "outputId": "9bb7d602-5f45-4707-edd9-d3c69b49ff4a"
      },
      "source": [
        "# Calculate Beta at Mu2 = 50.5\n",
        "n3 = 16\n",
        "Sig =2.5\n",
        "Mu2 =50.5\n",
        "\n",
        "p33 = (48.81 - Mu2)/(Sig/math.sqrt(n3))\n",
        "print(p33)\n",
        "p34 = (51.9 - Mu2)/(Sig/math.sqrt(n3))\n",
        "print(p34)\n",
        "\n",
        "# so our z score lies in between these two p33 < z < 1- p34.\n",
        "# Find probability at these z score\n",
        "P33 = 0.0032\n",
        "P34 = 0.9875\n",
        "# now Beta = P33 + 1- P34\n",
        "Beta32 = P33 +1 - P34\n",
        "print(f\"Beta at Mu2 = 50.5 is : {Beta32}\")\n"
      ],
      "execution_count": null,
      "outputs": [
        {
          "output_type": "stream",
          "text": [
            "-2.703999999999996\n",
            "2.2399999999999975\n",
            "Beta at Mu2 = 50.5 is : 0.015700000000000047\n"
          ],
          "name": "stdout"
        }
      ]
    },
    {
      "cell_type": "code",
      "metadata": {
        "colab": {
          "base_uri": "https://localhost:8080/"
        },
        "id": "ZvoDKiYE3Q0U",
        "outputId": "f8cf8a46-8dd3-4e1b-c54c-2d8dc0cb1bfa"
      },
      "source": [
        "# Calculate Beta at Mu1 = 52\n",
        "n4 = 16\n",
        "Sig =2.5\n",
        "Mu1 =52\n",
        "\n",
        "p41 = (48.42 - Mu1)/(Sig/math.sqrt(n4))\n",
        "print(p41)\n",
        "p42 = (51.58 - Mu1)/(Sig/math.sqrt(n4))\n",
        "print(p42)\n",
        "\n",
        "# As P42> P41, so our z score lies in between these two p42 < z < p41.\n",
        "# Find probability at these z score\n",
        "P41 = 0.0\n",
        "P42 = 0.2514\n",
        "# now Beta = p31 - p32\n",
        "Beta41 = P42 - P41\n",
        "print(f\"Beta at Mu2 = 52 is : {Beta41}\")"
      ],
      "execution_count": null,
      "outputs": [
        {
          "output_type": "stream",
          "text": [
            "-5.727999999999997\n",
            "-0.6720000000000027\n",
            "Beta at Mu2 = 52 is : 0.2514\n"
          ],
          "name": "stdout"
        }
      ]
    },
    {
      "cell_type": "code",
      "metadata": {
        "colab": {
          "base_uri": "https://localhost:8080/"
        },
        "id": "VwD8FK2M3bZB",
        "outputId": "e77e01a9-2626-4941-a186-70254a7d37a4"
      },
      "source": [
        "# Calculate Beta at Mu2 = 50.5\n",
        "n4 = 16\n",
        "Sig =2.5\n",
        "Mu2 =50.5\n",
        "\n",
        "p43 = (48.42 - Mu2)/(Sig/math.sqrt(n4))\n",
        "print(p33)\n",
        "p44 = (51.58 - Mu2)/(Sig/math.sqrt(n4))\n",
        "print(p34)\n",
        "\n",
        "# so our z score lies in between these two p33 < z < 1- p34.\n",
        "# Find probability at these z score\n",
        "P43 = 0.0035\n",
        "P44 = 0.9875\n",
        "# now Beta = P43 + 1- P44\n",
        "Beta42 = P43 +(1 - P44)\n",
        "print(f\"Beta at Mu2 = 50.5 is : {Beta42}\")"
      ],
      "execution_count": null,
      "outputs": [
        {
          "output_type": "stream",
          "text": [
            "-2.703999999999996\n",
            "2.2399999999999975\n",
            "Beta at Mu2 = 50.5 is : 0.015999999999999955\n"
          ],
          "name": "stdout"
        }
      ]
    },
    {
      "cell_type": "markdown",
      "metadata": {
        "id": "afNu0wmi3hqF"
      },
      "source": [
        "Problem Statement 8:\n",
        "Find the t-score for a sample size of 16 taken from a population with mean 10 when the sample mean is 12 and the sample standard deviation is 1.5."
      ]
    },
    {
      "cell_type": "code",
      "metadata": {
        "colab": {
          "base_uri": "https://localhost:8080/"
        },
        "id": "duvH0T-V3kNO",
        "outputId": "22b8b031-3308-4d78-e3fc-d0b5a170ee15"
      },
      "source": [
        "#t_score = ?\n",
        "n = 16\n",
        "p_mean = 10\n",
        "sample_mean =12\n",
        "sample_std =1.5\n",
        "\n",
        "SE = sample_std/(n**0.5)\n",
        "t = (sample_mean-p_mean)/SE\n",
        "print(f\"t_score is {round((t),1)}\")"
      ],
      "execution_count": null,
      "outputs": [
        {
          "output_type": "stream",
          "text": [
            "t_score is 5.3\n"
          ],
          "name": "stdout"
        }
      ]
    },
    {
      "cell_type": "markdown",
      "metadata": {
        "id": "fC_tiVIj3rb3"
      },
      "source": [
        "Problem Statement 9:\n",
        "Find the t-score below which we can expect 99% of sample means will fall if samples of size 16 are taken from a normally distributed population."
      ]
    },
    {
      "cell_type": "code",
      "metadata": {
        "colab": {
          "base_uri": "https://localhost:8080/"
        },
        "id": "UUY19ugF3wJr",
        "outputId": "adcd51ea-d909-456b-dd19-06f98dbd41e3"
      },
      "source": [
        "n= 16\n",
        "alpha=(1-0.99)/2\n",
        "print(f\"t_score is {stats.t.ppf(1-alpha,df=15)}\")"
      ],
      "execution_count": null,
      "outputs": [
        {
          "output_type": "stream",
          "text": [
            "t_score is 2.946712883338615\n"
          ],
          "name": "stdout"
        }
      ]
    },
    {
      "cell_type": "markdown",
      "metadata": {
        "id": "4XXyoWVq3zd7"
      },
      "source": [
        "Problem Statement 10:\n",
        "If a random sample of size 25 drawn from a normal population gives a mean of 60 and a standard deviation of 4, find the range of t-scores where we can expect to find the middle 95% of all sample means. Compute the probability that (−𝑡0.05 <𝑡<𝑡0.10)."
      ]
    },
    {
      "cell_type": "code",
      "metadata": {
        "colab": {
          "base_uri": "https://localhost:8080/"
        },
        "id": "ZWsTdXlx31JD",
        "outputId": "bd04aa2c-5708-476e-b961-71a2b98d5fc9"
      },
      "source": [
        "n=25\n",
        "std=4\n",
        "mean=60\n",
        "alpha=(1-0.95)/2\n",
        "t_score=stats.t.ppf(1-alpha,df=24)\n",
        "print(f\"Range is : {mean+t_score*(std/(n**0.5))} {mean-t_score*(std/(n**0.5))}\")"
      ],
      "execution_count": null,
      "outputs": [
        {
          "output_type": "stream",
          "text": [
            "Range is : 61.651118849302414 58.348881150697586\n"
          ],
          "name": "stdout"
        }
      ]
    },
    {
      "cell_type": "code",
      "metadata": {
        "colab": {
          "base_uri": "https://localhost:8080/"
        },
        "id": "L5Zf2pG74Ime",
        "outputId": "b3612a4e-8839-4642-8239-c9dad120c11e"
      },
      "source": [
        "p=stats.t.cdf(0.1,df=24)-stats.t.cdf(-0.05,df=24)\n",
        "print(f\"probability that (−𝑡0.05 <𝑡<𝑡0.10) is {p}\")"
      ],
      "execution_count": null,
      "outputs": [
        {
          "output_type": "stream",
          "text": [
            "probability that (−𝑡0.05 <𝑡<𝑡0.10) is 0.05914441613731247\n"
          ],
          "name": "stdout"
        }
      ]
    },
    {
      "cell_type": "markdown",
      "metadata": {
        "id": "jMKfAJ384MBr"
      },
      "source": [
        "Problem Statement 11:\n",
        "Two-tailed test for difference between two population means Is there evidence to conclude that the number of people travelling from Bangalore to Chennai is different from the number of people travelling from Bangalore to Hosur in a week, given the following: Population 1: Bangalore to Chennai n1 = 1200 x1 = 452 s1 = 212 Population 2: Bangalore to Hosur n2 = 800 x2 = 523 s2 = 185"
      ]
    },
    {
      "cell_type": "code",
      "metadata": {
        "colab": {
          "base_uri": "https://localhost:8080/"
        },
        "id": "4hg8oZI84T0y",
        "outputId": "7ea08a9f-350e-468d-d5e4-3046e05499de"
      },
      "source": [
        "n1-1200\n",
        "x1 = 452\n",
        "s1 = 212\n",
        "n2 = 800\n",
        "x2 = 523\n",
        "s2 = 185\n",
        "s_1=s1**2\n",
        "s_2=s2**2\n",
        "alpha=0.05\n",
        "se=((s_1/n1)+(s_2/n2))**0.5\n",
        "z_score=(x1-x2)/se\n",
        "print(f\"Z_Score is {z_score}\")\n",
        "print(f\"Critical region is {norm.ppf(alpha/2)} {-norm.ppf(alpha/2)}\")"
      ],
      "execution_count": null,
      "outputs": [
        {
          "output_type": "stream",
          "text": [
            "Z_Score is -1.0540598824304734\n",
            "Critical region is -1.9599639845400545 1.9599639845400545\n"
          ],
          "name": "stdout"
        }
      ]
    },
    {
      "cell_type": "markdown",
      "metadata": {
        "id": "dvP8QVOV4auW"
      },
      "source": [
        "Hence,we reject null hypothesis since it lies within critical region at alpha=5%.So,number of people travelling from Bangalore to Chennai is different from the number of people travelling from Bangalore to Hosur in a week"
      ]
    },
    {
      "cell_type": "markdown",
      "metadata": {
        "id": "Iv0rUmVf4hps"
      },
      "source": [
        "Problem Statement 12:\n",
        "Is there evidence to conclude that the number of people preferring Duracell battery is different from the number of people preferring Energizer battery, given the following: Population 1: Duracell n1 = 100 x1 = 308 s1 = 84 Population 2: Energizer n2 = 100 x2 = 254 s2 = 67"
      ]
    },
    {
      "cell_type": "code",
      "metadata": {
        "colab": {
          "base_uri": "https://localhost:8080/"
        },
        "id": "8cR856eJ4nZe",
        "outputId": "fd2215e6-f0e6-467c-b39d-9a47d1ed6a79"
      },
      "source": [
        "n1 = 100\n",
        "x1 = 308\n",
        "s1 = 84\n",
        "n2 = 100\n",
        "x2 = 254\n",
        "s2 = 67\n",
        "s_1=s1**2\n",
        "s_2=s2**2\n",
        "alpha=0.05\n",
        "SE=((s_1/n1)+(s_2/n2))**0.5\n",
        "z_score=(x1-x2)/SE\n",
        "print(f\"Z_Score is {z_score}\")\n",
        "print(f\"Critical region is {norm.ppf(alpha/2)} {-norm.ppf(alpha/2)}\")"
      ],
      "execution_count": null,
      "outputs": [
        {
          "output_type": "stream",
          "text": [
            "Z_Score is 5.025702668336442\n",
            "Critical region is -1.9599639845400545 1.9599639845400545\n"
          ],
          "name": "stdout"
        }
      ]
    },
    {
      "cell_type": "markdown",
      "metadata": {
        "id": "UI9PlKLQ4sjs"
      },
      "source": [
        "So,we reject null hypothesis since it lies within critical region at alpha=5%.So, number of people preferring Duracell battery is different from the number of people preferring Energizer battery"
      ]
    },
    {
      "cell_type": "markdown",
      "metadata": {
        "id": "ZmT5Qzrl4x4t"
      },
      "source": [
        "Problem Statement 13:\n",
        "Pooled estimate of the population variance Does the data provide sufficient evidence to conclude that average percentage increase in the price of sugar differs when it is sold at two different prices? Population 1: Price of sugar = Rs. 27.50 n1 = 14 x1 = 0.317% s1 = 0.12% Population 2: Price of sugar = Rs. 20.00 n2 = 9 x2 = 0.21% s2 = 0.11%"
      ]
    },
    {
      "cell_type": "code",
      "metadata": {
        "colab": {
          "base_uri": "https://localhost:8080/"
        },
        "id": "PoOkmv-Y40rS",
        "outputId": "5064933e-014f-4c38-ee4c-7febbe3dd3e2"
      },
      "source": [
        "n1=14\n",
        "x1 = 0.317\n",
        "s1 = 0.12\n",
        "n2 = 9\n",
        "x2 = 0.21\n",
        "s2 = 0.11\n",
        "s_1=s1**2\n",
        "s_2=s2**2\n",
        "s=((n1-1)*s_1)+((n2-1)*s_2)\n",
        "n=(n1+n2-2)\n",
        "se=(s/n)**0.5\n",
        "n_1=((1/n1)+(1/n2))**0.5\n",
        "t_score=(x1-x2)/se*n_1\n",
        "\n",
        "print(f\"T_score is {t_score}\")\n",
        "print(f\"Critical Region is {stats.t.ppf(1-0.05,df=n)}\")\n"
      ],
      "execution_count": null,
      "outputs": [
        {
          "output_type": "stream",
          "text": [
            "T_score is 0.3931089218182991\n",
            "Critical Region is 1.7207429028118775\n"
          ],
          "name": "stdout"
        }
      ]
    },
    {
      "cell_type": "markdown",
      "metadata": {
        "id": "XED7Ch855Fth"
      },
      "source": [
        "We accept null hypothesis at alpha=5%.So,average price do not increase"
      ]
    },
    {
      "cell_type": "markdown",
      "metadata": {
        "id": "5EnuN2cA5Jkh"
      },
      "source": [
        "Problem Statement 14:\n",
        "The manufacturers of compact disk players want to test whether a small price reduction is enough to increase sales of their product. Is there evidence that the small price reduction is enough to increase sales of compact disk players? Population 1: Before reduction n1 = 15 x1 = Rs. 6598 s1 = Rs. 844 Population 2: After reduction n2 = 12 x2 = RS. 6870 s2 = Rs. 669"
      ]
    },
    {
      "cell_type": "code",
      "metadata": {
        "colab": {
          "base_uri": "https://localhost:8080/"
        },
        "id": "kCIPHKNz5Nw_",
        "outputId": "7e2ea7d1-2d92-44d0-bfe7-1f82f0e611ff"
      },
      "source": [
        "n1 = 15\n",
        "x1 = 6598\n",
        "s1 = 844\n",
        "n2 = 12\n",
        "x2 = 6870\n",
        "s2 = 669\n",
        "s_1=s1**2\n",
        "s_2=s2**2\n",
        "\n",
        "s=((n1-1)*s_1)+((n2-1)*s_2)\n",
        "n=(n1+n2-2)\n",
        "se=(s/n)**0.5\n",
        "n_1=((1/n1)+(1/n2))**0.5\n",
        "t_score=(x1-x2)/se*n_1\n",
        "\n",
        "print(f\"T_score is {t_score}\")\n",
        "print(f\"Critical Region is {stats.t.ppf(0.05,df=n)}\")"
      ],
      "execution_count": null,
      "outputs": [
        {
          "output_type": "stream",
          "text": [
            "T_score is -0.1364745051598569\n",
            "Critical Region is -1.708140761251899\n"
          ],
          "name": "stdout"
        }
      ]
    },
    {
      "cell_type": "markdown",
      "metadata": {
        "id": "xXXjD9bd5T1I"
      },
      "source": [
        "Therefore,We accept null hypothesis at alpha=5%.So average price remains same"
      ]
    },
    {
      "cell_type": "markdown",
      "metadata": {
        "id": "7VzrfogO5ZxK"
      },
      "source": [
        "Problem Statement 15:\n",
        "Comparisons of two population proportions when the hypothesized difference is zero Carry out a two-tailed test of the equality of banks’ share of the car loan market in 1980 and 1995. Population 1: 1980 n1 = 1000 x1 = 53 𝑝 1 = 0.53 Population 2: 1985 n2 = 100 x2 = 43 𝑝 2= 0.53"
      ]
    },
    {
      "cell_type": "code",
      "metadata": {
        "colab": {
          "base_uri": "https://localhost:8080/"
        },
        "id": "06xcasox5gKR",
        "outputId": "bce43acb-a93e-46a5-999e-59fdbff43f44"
      },
      "source": [
        "n1 = 1000\n",
        "x1 = 53\n",
        "𝑝1 = 0.53\n",
        "n2 = 100\n",
        "x2 = 43\n",
        "𝑝2= 0.53\n",
        "p=(x1+x2)/(n1+n2)\n",
        "\n",
        "n=(1/n1)+(1/n2)\n",
        "p_1=p*(1-p)\n",
        "Z=(p1-p2)/((p_1*n)**0.5)\n",
        "print(f\"Z_score is {Z}\")\n",
        "print(f\"Critical region is {norm.ppf(0.05)}\")"
      ],
      "execution_count": null,
      "outputs": [
        {
          "output_type": "stream",
          "text": [
            "Z_score is 0.0\n",
            "Critical region is -1.6448536269514729\n"
          ],
          "name": "stdout"
        }
      ]
    },
    {
      "cell_type": "markdown",
      "metadata": {
        "id": "2fGUAxxm5j7V"
      },
      "source": [
        "We can't reject null hypothesis at alpha=10%"
      ]
    },
    {
      "cell_type": "markdown",
      "metadata": {
        "id": "F6qVAARp5nnk"
      },
      "source": [
        "Problem Statement 16:\n",
        "Carry out a one-tailed test to determine whether the population proportion of traveler’s check buyers who buy at least $2500 in checks when sweepstakes prizes are offered as at least 10% higher than the proportion of such buyers when no sweepstakes are on. Population 1: With sweepstakes n1 = 300 x1 = 120 𝑝 = 0.40 Population 2: No sweepstakes n2 = 700 x2 = 140 𝑝 2= 0.20"
      ]
    },
    {
      "cell_type": "code",
      "metadata": {
        "colab": {
          "base_uri": "https://localhost:8080/"
        },
        "id": "ydb2JLYw5sEi",
        "outputId": "4f0c0278-6d27-4c46-d988-d2cd1c0933c7"
      },
      "source": [
        "n1 = 300\n",
        "x1 = 120\n",
        "𝑝1 = 0.40\n",
        "n2 = 700\n",
        "x2 = 140\n",
        "𝑝2= 0.20\n",
        "p=(x1+x2)/(n1+n2)\n",
        "\n",
        "n=(1/n1)+(1/n2)\n",
        "p_1=p*(1-p)\n",
        "Z=(p1-p2-0.1)/((p_1*n)**0.5)\n",
        "print(f\"Z_score is {Z}\")\n",
        "print(f\"Critical region is {-norm.ppf(0.05)}\")"
      ],
      "execution_count": null,
      "outputs": [
        {
          "output_type": "stream",
          "text": [
            "Z_score is 3.303749523611152\n",
            "Critical region is 1.6448536269514729\n"
          ],
          "name": "stdout"
        }
      ]
    },
    {
      "cell_type": "markdown",
      "metadata": {
        "id": "s08Kwhly5wmI"
      },
      "source": [
        "Hence.We reject null hypothesis at alpha=5%"
      ]
    },
    {
      "cell_type": "markdown",
      "metadata": {
        "id": "mxAzNdmJ51Jn"
      },
      "source": [
        "Problem Statement 17:\n",
        "A die is thrown 132 times with the following results: Number turned up: 1, 2, 3, 4, 5, 6 Frequency: 16, 20, 25, 14, 29, 28 Is the die unbiased? Consider the degrees of freedom as 𝑝 − 1."
      ]
    },
    {
      "cell_type": "code",
      "metadata": {
        "colab": {
          "base_uri": "https://localhost:8080/"
        },
        "id": "Vd0_Sqp556Zx",
        "outputId": "fbe2e639-a630-459d-8fd2-b00a32c15ec9"
      },
      "source": [
        "f_obs= [16, 20, 25, 14, 29, 28]\n",
        "f_exp= [22,22,22,22,22,22]\n",
        "result=stats.chisquare(f_obs,f_exp)\n",
        "print(f\"Chi square value is {result[0]} and p-value is {result[1]}\")\n",
        "print('Dias is unbiased.')"
      ],
      "execution_count": null,
      "outputs": [
        {
          "output_type": "stream",
          "text": [
            "Chi square value is 9.0 and p-value is 0.1090641579497725\n",
            "Dias is unbiased.\n"
          ],
          "name": "stdout"
        }
      ]
    },
    {
      "cell_type": "markdown",
      "metadata": {
        "id": "_-bziEQ66B9K"
      },
      "source": [
        "Problem Statement 18:\n",
        "In a certain town, there are about one million eligible voters. A simple random sample of 10,000 eligible voters was chosen to study the relationship between gender and participation in the last election. The results are summarized in the following 2X2 (read two by two) contingency table:\n",
        "\n",
        "![image.png](data:image/png;base64,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)"
      ]
    },
    {
      "cell_type": "markdown",
      "metadata": {
        "id": "NAxJ3uGu6SZQ"
      },
      "source": [
        "We would want to check whether being a man or a woman (columns) is independent of having voted in the last election (rows). In other words, is “gender and voting independent”?\n",
        "\n"
      ]
    },
    {
      "cell_type": "code",
      "metadata": {
        "colab": {
          "base_uri": "https://localhost:8080/"
        },
        "id": "mODfae3o6ifA",
        "outputId": "8f95c241-447a-42bf-e79e-db781273ea31"
      },
      "source": [
        "observed_voted_men=2792\n",
        "observed_voted_women=3591\n",
        "observed_not_voted_men=1486\n",
        "observed_not_voted_women=2131\n",
        "total_voted=2792+3591\n",
        "total_not_voted=1486+2131\n",
        "total_men=2792+1486\n",
        "total_women=3591+2131\n",
        "expected_voted_men=(total_voted*total_men)/10000\n",
        "expected_voted_women=(total_voted*total_women)/10000\n",
        "expected_not_voted_men=(total_not_voted*total_men)/10000\n",
        "expected_not_voted_women=(total_not_voted*total_women)/10000\n",
        "chisquare1=(((observed_voted_women-expected_voted_women)**2)/expected_voted_women)\n",
        "chisquare2=(((observed_voted_men-expected_voted_men)**2)/expected_voted_men)\n",
        "chisquare3=(((observed_not_voted_men-expected_not_voted_men)**2)/expected_not_voted_men)\n",
        "chisquare4=(((observed_not_voted_women-expected_not_voted_women)**2)/expected_not_voted_women)\n",
        "chisquare=chisquare1+chisquare2+chisquare3+chisquare4\n",
        "print(f\"Chi Square value is {chisquare}\")\n",
        "print(f\"Critical region with alpha=0.05 is 3.84\")\n",
        "print(\"We reject null hypothesis.It is not gender and voting independent\")"
      ],
      "execution_count": null,
      "outputs": [
        {
          "output_type": "stream",
          "text": [
            "Chi Square value is 6.660455899328067\n",
            "Critical region with alpha=0.05 is 3.84\n",
            "We reject null hypothesis.It is not gender and voting independent\n"
          ],
          "name": "stdout"
        }
      ]
    },
    {
      "cell_type": "markdown",
      "metadata": {
        "id": "1mwnhqLc6z_B"
      },
      "source": [
        "Problem Statement 19:\n",
        "A sample of 100 voters are asked which of four candidates they would vote for in an election. The number supporting each candidate is given below:\n",
        "\n",
        "![image.png](data:image/png;base64,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)"
      ]
    },
    {
      "cell_type": "markdown",
      "metadata": {
        "id": "9OnYZaEv67bs"
      },
      "source": [
        "Do the data suggest that all candidates are equally popular? [Chi-Square = 14.96,with 3 df, 𝑝 0.05 .]"
      ]
    },
    {
      "cell_type": "code",
      "metadata": {
        "colab": {
          "base_uri": "https://localhost:8080/"
        },
        "id": "cUuKtSyp7F4y",
        "outputId": "5eeb24e7-aab5-4cb5-cc32-cf083a7813f9"
      },
      "source": [
        "#print(np.mean([41,19,24,16]))\n",
        "obs=[41,19,24,16]\n",
        "exp=[25,25,25,25]\n",
        "result=stats.chisquare(obs,exp)\n",
        "print(f\"Chi Square value is {result[0]}\")\n",
        "print(f\"Critical region with 3df and alpha=0.05 is 7.82\")\n",
        "print(\"We reject null hypothesis. All candidates are not equally popular\")"
      ],
      "execution_count": null,
      "outputs": [
        {
          "output_type": "stream",
          "text": [
            "Chi Square value is 14.959999999999999\n",
            "Critical region with 3df and alpha=0.05 is 7.82\n",
            "We reject null hypothesis. All candidates are not equally popular\n"
          ],
          "name": "stdout"
        }
      ]
    },
    {
      "cell_type": "markdown",
      "metadata": {
        "id": "2s5LX9Ay7Kfz"
      },
      "source": [
        "Problem Statement 20:\n",
        "Children of three ages are asked to indicate their preference for three photographs of adults. Do the data suggest that there is a significant relationship between age and photograph preference? What is wrong with this study? [Chi-Square = 29.6, with 4 df: 𝑝 < 0.05].\n",
        "\n",
        "![image.png](data:image/png;base64,iVBORw0KGgoAAAANSUhEUgAAAtsAAAD7CAYAAAC7Q1i3AAAgAElEQVR4Ae2d0YsbV7bu9W/oyQY9OdgwwS/GD4MeLo3HAWMGAkMCItgxdgiB4XDRYGySeThwHwRtEgYuBISbDAPhGE03JwxnMBFNIJxzO0d9OZfk0q1muEwSW80Q7vU04mBMI9ZlV9Uu7SqtpS5JS92S1jeDiXpr16q9f+vbVV/t2lUqEf4HAiAAAiAAAiAAAiAAAiAwFwKluURFUBAAARAAARAAARAAARAAAYLZhghAAARAAARAAARAAARAYE4EYLbnBBZhQQAEQAAEQAAEQAAEQABmGxoAARAAARAAARAAARAAgTkRgNmeE1iEBQEQAAEQAAEQAAEQAIGpzHapNNVmoA0CZglgzJhNfeGOQyOFURWuCKaFUaFijgC0kwOCPwsRkHQzlWt2wfAPDKABaAAagAagAWgAGoAGoIGhBjhXPrXZ5oKhDARAgCfgDkT4HwiMIwCNjKMz3XdgOh03bEXRhCI4gMCkBKRjzlQOQAo2aaNQHwSsEMCYsZLp6fsJjUzPTtoSTCUyKD+JALRzEiF8zxGQdAOzzdFCGQgoE5AGoPJuEG6JCUAj+skDU32mViJCO1YyrdtPSTcw27qcEQ0EWALSAGQro9AkAWhEP+1gqs/USkRox0qmdfsp6QZmW5czooEAS0AagGxlFJokAI3opx1M9ZlaiQjtWMm0bj8l3cBs63JGNBBgCUgDkK2MQpMEoBH9tIOpPlMrEaEdK5nW7aekG5htXc6IBgIsAWkAspVRaJIANKKfdjDVZ2olIrRjJdO6/ZR0A7OtyxnRQIAlIA1AtjIKTRKARvTTDqb6TK1EhHasZFq3n5JuTsVsD7pNWkt/COcy1ds/6fZu3tH6XWo/adDd9Q4dz3tfSx3/B2rVKlQqVajW+mGpe6LdeGkAauxn0OtQq1GjcjrGylStN6ndPdIIP4cYp62T097fdMjmqZHpWrT8Wy0k00GPdtaH47Vc+x3t9F4tP+yz6sFgj5pr71Orp3t2nq92jqj7dJ1q5eSHUMo1ajztUv+sGK7IfiOvWWtRb579OUFvkm5OwWy/pG7zzewvTq41qTuYJw3N2H3qNKpR+ysNmO3xZJfD1Izvw3y+lQbgrHsb9J7S/Wo5O75S0/0GNTovZt3FHLY/bZ2c9v6mQzYvjUzXmtXYavGYvqBO4w0qVX9L7d4rGjxr0a1yicr1Ni3qpfFCKeG4Q43K8Jf6XH6jf+X71D7ypuKIuu3PqVG7mBwX3eRDi7p9/32xHs1PO6/oWet9KpfW6H77GQ0o0UTpTWp2XxZrnPlax9Rr3eXPexmzPaB+98+BFtaovrFDvaJS6LWo5jWW+e9d8eJO0s38zXZ0FeDMwGX6h08/jg4spaUSFcy2+XGtAEAagLOFDi5ky7eouRefrjMGfCEvbJfD/M6Wm8m3no9GJm/HKm2xaEzju7zh3d1kLGQMgkYGBnTUvp/c7VohEyeZ7UqDOtHEtjdh3sge0V7zFpVLZao2diaaOZ6bdo7aVC9n23PcaVClVKVGR3luO9qXuyAp01pzj4p6TA0FzjeGzzNz4RWOpf4ONaplKt9q0bOBv8iZgMUyme10CUl05fk3atcvi4kfuR3O3lp5Rb1OK7hSKVG5tk5PM7fM3dVMm5r1teDKNndbPYV4i5rtL4J44ZWPNwVhQoMB0e/S08zt+4tUa7Sok94S9NtXqPbk36jTaqS3jbhbh4X675a0NOtU9VdZ1To12yfcfvJ9rfyWWn/+bbKtPwAXYOVGTaavMaMfdtwBokSl9EAX9DezjISbacjlg4JtC7Ca70DWjz6fA/fwQnCYA9f20ISHMz75q/wSldwYa3XSK/34oO9y+t+o/b+DGYHqfWq5McboIJ0l8DorjRtTrn1BrkOdTKNtctpqUj2c3R8ZE/n9Bdz8OEr/Gy6BKjg2lOQyH40oNc6FySx/cGbmf9JTdzxPx7/ivpRCLRbTZFyGvJLJKO2Z7cwFd2bWVwnsWYXxZjs0VJm2xCYsw9MbzgknHuajHX8R5M+/rvFcWaZT0/0xeEbt+94DhRd404VbrK282ZZnmIfnwYC1n/wtOiaic1p4TjiZgqSbOc9sD0/6sfi9qEpUqq5TJ7ytk1yBuIZm/12kW62/JldkA+p31odGM6xbfp9az+J1b/7WXDaOMxbD2T9KjUF+f+5vf9XpT9JhncRsD/5KrVv+NlX4fSm5inJJ4bYP6oaDv0j/xX1epFrzW/mqnetrIrZCrNj9XqS3ajfjmZP05OH7G4rTzywE/U7zFi5z8Nty9UpUClmdrPeFqyENwNkaOhxfkWbrn1JrzIWXmOvScIylZjvNUZCP6vtUT2/N+vLgIM7pLI3jx1Q4LgKdsBpz+xin7THHgxKnLb+/YmZb5BUeR2ZLYGbr+Wgks4sZ/khudSd9z5g50fjMsDulTReK6Yix9voNtSp13E0yfRFMILmxsUb15mfxRJE/BnszkY47P07d+S+88Jb2s+DlJ5ptpv1+mwnPIfPRzk/xhGPYFn/uD8uYbkRFgx51tj4dnVx4Ek/kxUtdw/NCkP9IE8HxWtrHUpQXMduJp8joPuFfdHXF0pjtdOAHCfZXmaWgLJyJS9ayEb2iXjuZhfWw0nhlqt5/Gs/GBVdvsaH3MMOT9NDwpVe8qTEIYwUPrvh90vDEHK7ZTmfs04sGf4uCm+l1FxfJzCAF9Ur+qiwYHGL/j9PbguXaBu1FFyoD6u9txLPlaXuZkRL2NbmVNuj36T+pGKu0r+kaMzfJFawV9gf69OLCmxqi4bZBPoKcDS+6ArM9lhXTvyUoms+B291x+JaaIwbY3e1p0JOt4Yz18Co/ML2BwfXaHpptny9vCOKDdqo9f4IolchvO7yAPWlM+Vx7nQwvwtP4VETbw7GZjut0/WN4gZbfX1YwGS2n46/Y2MhGmu2vuWlktmZFW8fjOLz9OjxmDdkr7Eg5xEIxjc59XvP+ATk/zsZ1fHj+Si8+g7Hr+pjNwTA3hR9Wz5uKkQuDce07xe+8cZ7gAs9rdyGWkSTtj/MV3GlMjztjWIbHen/Rm6z5dxpwS3XDl08Mz70lKhXilRxPQy8R6SIc92Pad6pfFTDbXiupP3EN9GMjy0psen5ciBWHX0jHnDnObAcn6TB5qcELDxDjT4ZpN1LT6E1q+s3wgwfMXdm7Mt8WKVZ6MeCXiwxP6KmpGO6N3NKPrVaLWuHSDr+P1HzmxDqy7yL9H7YjHlgTXLGm+wtup7g+FGL1n8MHXDNX3kODNLyNnO+HF3ZofBJ4I5z9tiexCuAv0UdpAKp0gZvtSPQ/NK9+T26G7E/Uaj3JzJL5k3VqtlMNhzoJD1BDPabjItVZbnyKufbGYxhrMm2HF67JBYYbi5mLDNdvry2/P8/CXazEa/qi/YYz1oXGhu4KyLlqJOjy5B/9ic0fE+MIsVZy43Xy4HPdYpGYxubHMfzfyVubisxoB+fRjKkOx0w+B17v7hyRO+YLtONcBvmNxmw+rrBxWhy2KX9+4v9Ojx1pjBM++HF5tUrV5E0e3JLMYRR/R2Z453v43fhPc9FOdIx0XL+lZ9EDfsHExNjm+IcoHcfgOOx5RMf7MNd+zLr6BfPoJzMDYx7rItjf2DYOv0zPI5IPy5dnDPEwjvzJ969KtVr8AovoQrTx5+GDsP58lPEtfjvmXMDtLMlXtfZWuqJidNlydkNJN3M0235miB9krkGp8U0FMx7AMIG5k3nYVw84n8z072RbXy+f5LQt/sAzPIBkDgzhVWYaO+lrGtMf9HL9SveRtCX9O1cv7FdqGCSeY7b1fQ0NlIvty/PtT/927XODPBazN2S+WWk+xP4K7FyAkT4XZOV3vmT/lQagfjfcGuZWYKT9gTKYKU7zO9SS1/ZoTsNc+THhWs3k1usp1UPSuzTXfvt8rv3fw/ZEx4e0nWO07S40NoJnGNJt1qje2kuWVvn4uTiZ2cGc8fF9SePl2zbmGDRlUk9PI5M20Oc6PJn740eO6aSh51x/cZj6k3yiG393L70zKoDIaDTk73PidOnHVRIjvbgNzrFC+Lg4aVtwfogvDPyxY+zGp/tlxO2N5M52cExjOfoLldzYLtjieWgnPr76fL2i3s7vqFb2D3PKDcssaQvNY3psDe+ouzih/yqYx0Q3/lwwnAXWP9bJPS36TZL7Nb9iwN/9Ce7c+mN4cPFA5MdhweNW5PPeTM4lJ+ktbrukm/mZ7XDAiycsv1bUnwxPuALz8MZdraf79YIWkifFGtl+eFAbFaFbHlKnZutP0UORo0bF9yuX2HSAeBH7euP6Pxw8w3YIfcsX+77mTdBIX/Mbur+l2el5zWyfxIpr4+KXSQNwppan+WN0k2osWebhZy3c8whubXc0+zuq7VENT2G28+Mzbacfk17vPtczaDsF6G7JblOr1aIn6UPL3pzk9+eeSQofHmJOdiNtTnc0tw9z0YhKa71O/PEqCRodV3xOVXakHmRxmCYMw2NwpDFm7IYU/LHbnUNDk5WO51FDPfXygTS+P7bn8h22a2E++/MTo8PortXl8c8zjemHvnZ8W0OuybEvuNAZbZI3iO7CKquXMNeZybBQH+ly1dHIYcnoBVbStlCz4QaL9tn32bP0YyfVtWuwZ+nPPZN2wudQvoCRdDMns+0H6+iBIO7a8OQaH0B8B5x5jd8/6p7QTdcj+5O3h+kMg1+zTf6Kxh+MhrHTW+jBiTUVpE9EZD6Sd3CGT9v7hHEzeMFVY/xKmdzJOxUnc5KP8u3fFeoHXZH+/2e6Znv4oCezrp3Tju9r2i5fqRir4YAempLMOtc07mh/h9sGaxODfIyu2c4NgtQ0ela+7cv1X2kAztaLYf7cW0XWd3rJg8TBmPC3HFPz6C9ws+vu/QWcjtkO3mvLjqm8TsLjhX+IuYC201m/8HjgfHT87uLhLfT8/kI+gS4zyRiyHXscyWwz2x/z0chsbYq39ieorKEZPTlr7Es3xuIwjTWYnn9cN5Njmx97XM/T8ZhZQkJE6Xj25z2/tc/VqDHzNUb+m5xXh21jLgxGNlqUAt/f3HkjOjZcDnzC5O3V105yTEnPl65NwoVsprm+jstpaPKC42bOhGfuWmfMZiZw8IeP5SconKdxPxZUzj0PEGyycB/9MTs5TnnvkOHtvVbIcZKOeE7Bs0q5zSXdzMls+05LC/OHDU5PiOHaycxMeHgi9beFnOjy/7wRDE16rk64JtMb0JE4bpuhIcnM7EZ1XSL/b/JS+lx8v44sNer5k3ySFS+C8IqzSP/FpSuSYUj25/uaEZ37riCr1NSE/S36NpJwrVm4vfsc3t6bgFVO3MvwpzQAZ2370Fjm2cZ/D40i9/acMl2tXo3eKONPtOnJPdRKqtfQbA1PAKlZ8Do7cUwxuZ5K2+OOB9xbgZITctofnln8MFHBsTFrAoPt56WRYBdTf4yNdTir5k9aYdnU4ee24cIwjTSXY5UY5nT8jFDwRtLpNNw2PH/mT/rBuTdjzEaCDwvyM+x+Uitz+31YXf40PCaMnp/5sSb3Xd5L9hvPKDTbybMc7NKS7Nbj/lLXDmtefb7GTSb546VjGJjhYNIvu5Qoqw9/bB/X19T0p97Fv9wg1N34COG36XmEPRcwWgjPN2GgiT57Tgkjr+OgT2k/Mxwn2YnXm8xF0s18zHZ61S03aHhlPqzDvmc6eAdwjIR7z3aDWh0/q+dq5d+Py7yLOzUGd+lJ52va8O/kZt7tPeh9TevpGx8Sg5hZK+pm8j6jTu8vyYMv/qrJJz88EAxnNEqh2Xatzv/sdu4dyFH/8+8iZto7Ih3fV1bQBVi5gOH7lZN9vohexB+uFRP6G70LOf+LXmPesx2+ezk1RuMORiM9XrgCaQBqNDR6SDd8QNcd4FyOnmwPHxaJ9LUz1Ll7bZj7Ja1nyS9kJQek9CAZaiXNQVGzfdKYEnQyjbaZsR6/Eq0d9D23v7Q/zEHfsUtNRsGxoZFEomgCQSmUfhh/we3fguDeRlSrUc2937zQzJl+k4pEnOe4K7L/tE50DPbnBVfqDVFYltZOPvg6TqfBOSQzMZPf3ms9b8zysYd/Z+9QDB86nt0ID/eh8ykxOhm9+Yu+wIRG/iOcyEnudl30P3xTrDXq2slf1LhmeK+U6VO+fd6Qu5z682BuoiFjKL0hdPWH/iofNft3oht/7PPjvegFWzbY/P+KjuE57Y+Ya6+NoJ6vM5a3b3588Zi9WGFi+urJfyXdzMds53a+kH96A5qKdyFbuRCNSg1YZsY/mLH2A3QhWruYjZAG4GK2dspWYUxNCS7ebOE10t+jlp+UiF7P+dPwDt+Ms4gzgRuz8WIw9aZ5eJc2XYZ3ArfhMrzk7V1RDm5Step+HM6ZKWck/kJ7zbu0Fi2tDI2ZM6D/Sf1ui+prd9NfmM3i8m1zd3P/Dx3tbdCtWo3eKjuT9jXtNOoL9BPi3kT6O7nDu0/pcs7wGaP8rGo4gZCFwP6lrR1/Hk3vNqbjKXthMNoYb/B8vv+W5LRK1avu17mT5brP/oOatTfpfvsH+n/pr4cmZjva15vy+nU/AeFM6LF7BfL7VIt+R6NKjZ1vqXX3H6l9pPv2pdF+TlDi25suO/ZLA8NVCcMlhTHzl8nrpMM6/m5MOJHk2+G/G101MdSbrzv8r6QbmG2Y7aFKpE+ZmRQ34MN/oXClACiXBuBKkYHZnimdJjQyE6HJN14MpolZKr9F9X/wv+jn74bGP8Qm9+yIuq376WvH3AP5G50eHYe/cxD9uM3wTk5q5JPjdPTOffHHrkIj5+4A/452en+jTuON+Edz0jf6yC08vW+Sh6Azd/HcrzYHr3sb99auMzXb/kJhjeqNfxjJ54k2NjXm7tzrtdMf/haJy3X4y7nhc1GRGR+90xnmLbyoi+4Murz7837meaBwqzP8HL3u9g/BL38nd3Of5n9N262E+Gz4I0AjKwG8oebMdvya3OED9459Xm+jDKRjDsw2zPaoWpiSkSUu+cHNbIOiIQFpAA5rrMAnmO2ZkmhCIzMRmnzjxWCazDYv5B1A17artNbcSx6unpzxqm6hq51EA4WWL5w20eTuxoQXI6fdymXZn6Qbu2Z7WTKHdq4EAWkArkTn0AkVAtCICsZMkIVgmqwTXbw10P75oWA9eIae7T9UtZNoILv+d1H4Jnc3FvJCYFEYFW+HpBuY7eIMURMEpiYgDcCpA2LDlSMAjeindCGYRg/BLaihje5GLWjb9OUwUURV7XAPR07UmnlWzj0cOc9dGYgt6QZm20Dy0cWzJyANwLNvGVqwKASgEf1MLALTeD0styZUv7+TRsy+iWTSrVe7vqZ2Fpqzf0PHQi5zWj6NSbqB2V6+XKLFS0hAGoBL2BU0eU4EoBF9sGCqz9RKRGjHSqZ1+ynpBmZblzOigQBLQBqAbGUUmiQAjeinHUz1mVqJCO1YybRuPyXdwGzrckY0EGAJSAOQrYxCkwSgEf20g6k+UysRoR0rmdbtp6QbmG1dzogGAiwBaQCylVFokgA0op92MNVnaiUitGMl07r9lHQDs63LGdFAgCUgDUC2MgpNEoBG9NMOpvpMrUSEdqxkWrefkm5gtnU5IxoIsASkAchWRqFJAtCIftrBVJ+plYjQjpVM6/ZT0g3Mti5nRAMBloA0ANnKKDRJABrRTzuY6jO1EhHasZJp3X5KuoHZ1uWMaCDAEpAGIFsZhSYJQCP6aQdTfaZWIkI7VjKt209JNzDbupwRDQRYAtIAZCuj0CQBaEQ/7WCqz9RKRGjHSqZ1+ynpBmZblzOigQBLQBqAbGUUmiQAjeinHUz1mVqJCO1YybRuPyXdwGzrckY0EGAJSAOQrYxCkwSgEf20g6k+UysRoR0rmdbtp6QbmG1dzogGAiwBaQCylVFokgA0op92MNVnaiUitGMl07r9lHQDs63LGdFAgCUgDUC2MgpNEoBG9NMOpvpMrUSEdqxkWrefkm5gtnU5IxoIsASkAchWRqFJAtCIftrBVJ+plYjQjpVM6/ZT0g3Mti5nRAMBloA0ANnKKDRJABrRTzuY6jO1EhHasZJp3X5KuoHZ1uWMaCDAEpAGIFsZhSYJQCP6aQdTfaZWIkI7VjKt209JNzDbupwRDQRYAtIAZCuj0CQBaEQ/7WCqz9RKRGjHSqZ1+ynpBmZblzOigQBLQBqAbGUUmiQAjeinHUz1mVqJCO1YybRuPyXdwGzrckY0EGAJSAOQrYxCkwSgEf20g6k+UysRoR0rmdbtp6QbmG1dzogGAiwBaQCylVFokgA0op92MNVnaiUitGMl07r9lHQztdl2AfEPDKABaAAagAagAWgAGoAGoIFYA5x9n9psc8FQBgIgwBNwByH8DwTGEYBGxtGZ7jswnY4btqJoMhEcQGBSAtIxZyoHIAWbtFGoDwJWCGDMWMn09P2ERqZnJ20JphIZlJ9EANo5iRC+5whIuoHZ5mihDASUCUgDUHk3CLfEBKAR/eSBqT5TKxGhHSuZ1u2npBuYbV3OiAYCLAFpALKVUWiSADSin3Yw1WdqJSK0YyXTuv2UdAOzrcsZ0UCAJSANQLYyCk0SgEb00w6m+kytRIR2rGRat5+SbmC2dTkjGgiwBKQByFZGoUkC0Ih+2sFUn6mViNCOlUzr9lPSDcy2LmdEAwGWgDQA2cooNEkAGtFPO5jqM7USEdqxkmndfkq6gdnW5YxoIMASkAYgWxmFJglAI/ppB1N9plYiQjtWMq3bT0k3MNu6nBENBFgC0gBkK6PQJAFoRD/tYKrP1EpEaMdKpnX7KekGZluN80vqNmtUa/2gFnH1A72kg8fv0p3NH5W7Oq+40zdTGoDTR1yyLfs71KhepXr7p1zDX1Gv8xnVq+XkF2nLVK1/SludHg1yNVf9T/MamUOCwXQOUI2EhHaMJFq5m5JuDJntAfU761QtVUYN8aBHnVaDauXhz62Waw1qiSf8H6hVqzA/V8/EVk5k0XDHu+t0+dx5qoz8+4C2Do+LhlGs9yNt3X6dac/rvNkeHNLuZw/o+s/WaXdscyeMq9ijSUJJA3CSGEtbt/8tbdRv0tXS5RGzPXjWolvlNapv7FDPuetBj3bWa1Qu36f2kS27bVojcxI3mM4JrIGw0I6BJM+hi5Ju7JjtaGbNzZ7lDfEL6jTeoFJpje63n0WzaYPe17Reu0il0pvU7L5k0pGY7VqLesy3KOIIJKb49iYdcl+nZa/ocPcP9PDaa7ExL2q2T4yb7uBMPkgD8Ewac2o7TWatax/TTudTWhsx2+5u0JtUWmtSN/TVgz1qrnGz4KfW8DPZkU2NzBc1mM6X7ypHh3ZWObvz65ukGyNm2xnqm1StvTU6s33Uprqb0c4Y5wEdte9TecSY+wSdjtke9Dq09aRBtYsN6oyd3fXtOqX/ulnnf/6cHt3+FT3a7RfcaRGzfUyHm7+hO+tP6eDFN/ToZ+epArNdkO/iVRt0m7RW/S21e68o+jxitn+idv0ylettOso0XyrPVFq5P6SD9Mp19BQ7BKanCHvFdgXtrFhCT6k7km4MmO1k+Uh1nTrdJ1TLG+ixZnv0tnecr3ma7SPqtj+nhptZL9eo8eRP1Om9Ki6TwXPa/vBGNCt86d4mPXczhv3vaOP2Fapc+JC2p741P6D+wVf0x/V36dK5K3Rn/XP6YvdwgnW1Rcx20M3jXZjtAMdSfuz/jXr9eMqaNdvRDHZZNNsjM95LCaF4o6WDdPEIqJknAKZ5Ivi7KAFopygp1AsJSLpZfbMdLR+5SY3OCzruNKiSN9s0uoyE+t9Ss3aRyrUN2kvMQgiTKDHb1beo5h/scsb4aZeKzvNm4w2o392mVrNO1VL8gFirPU2seGb4vc192n/8NlXOvU0b+/u0de9t+mj7+QTGOGhd/4C2N5vxso5rD2hj8ys6YJkE27AfE7N97R2645eIXHiXHn15wDOb1GwXjcu2bf6F0gCc/54XYw+s2U4udKWZbZjtxcjdMrfC+rhb5tyddduhnbPOwHLuX9LNipvt2Ej7kzlvtl1CveEePiBZKr9PrWfSjPIR7TXv0lq9RV1nPPt71KqvUal0kW61/lrc1Pa71G59Gr+JoVqnZms7jqegscHBY7p57nW6fu0Gvbf5ffE2Rfs+ooPtTdp44GbIb9DDx5u0fZC90T95E49o//EHdPPBZmzW+/u0FcW/wrevsNmeMO7kDVfZQhqAKsGXIAjM9slJsq6RkwlNXgNMJ2eGLWIC0A6UMA0BSTcrbLaT5SOBaR6a7b/Qs9b7dLHRoWNyxvkWlcs1Wt+JXzeWPiAZbHsidHY5yrit+tRpVKM3mlSidoyrO8V3R9v08MJ5SpeSTBAifZPJieulJwjKVU3aWOEebixstpnA4+Iy1U+jSBqAp7HvRdgHa7axjCSTGusaycBQ+gNMlUAaDAPtGEy6Qpcl3ayw2U6WepSC2erM5+StJL0W1Uolyhve2JiXaa25V2xW+LhDjUqJSpUJHmac58z24Zf0kVuuceMxHYRveigkpnnMbDM7Hmeox33HhMoUzbJtJpDeH9IA1NvDYkdizTZJD0JK5Yvdx1lbZ10js/LjtgdTjgrKihCAdopQQp08AUk3K2y28wiIXbMdm4DSyENa48x29F1+1ltcfzrajtESrTXbSeTB97R171d05/YvZnwo0j1cqbNmO5otv/Br2noeLM3xs+8PtnNvoyCigoZ54rij8E+lRBqAp7LzBdgJb7bHvfqvUvxCdwH6p9EE6xrRYJiPAaZ5Ivi7KAFopygp1AsJSLoxZLb96/xys9XJrWz35g+/jMQ/IJmu287NWnsjXr3/NP4hjnTN9hvRg5gh+Mk/z/g2EnpBu+vv0J3H39Hfox+2+Tk93D6g3fUPJnhNH9fq2d5GEi9NeY2uf/glHUZvSPFrtn9Jj3ZfjOxw8HyT3rtwnip5g54z4ZPGHdnRKRVIA/CUdn/mu+HNNlH8o5D8jxgAACAASURBVDYXqdb8Nn5QFj9qc+a5WqUGWB93q5TL0+4LtHPaxFdjf5Ju7JjtZLmIAzHywzb9Lj1t1KicLjNxbwRpUrubPBSYM9vp+68L/+LkdCJK91PoPdsDOtr+MH4t38f/mhja5JV/7lV9j7/j3/oxTdOmeM/24HCXvmit0x1noJNftbx0e5228q8PPNykOyO/eum2SX75Mme2C8edpp+K20gDUHEXCx1KMttE7uKyGfxce4nG/3rrQndzpsZZ18hM8ISNwVQAg+ITCUA7JyJCBYaApBs7ZpuBgiIQOC0C0gA8rf1jP4tPABrRzxGY6jO1EhHasZJp3X5KuoHZ1uWMaCDAEpAGIFsZhSYJQCP6aQdTfaZWIkI7VjKt209JNzDbupwRDQRYAtIAZCuj0CQBaEQ/7WCqz9RKRGjHSqZ1+ynpBmZblzOigQBLQBqAbGUUmiQAjeinHUz1mVqJCO1YybRuPyXdwGzrckY0EGAJSAOQrYxCkwSgEf20g6k+UysRoR0rmdbtp6QbmG1dzogGAiwBaQCylVFokgA0op92MNVnaiUitGMl07r9lHQDs63LGdFAgCUgDUC2MgpNEoBG9NMOpvpMrUSEdqxkWrefkm5gtnU5IxoIsASkAchWRqFJAtCIftrBVJ+plYjQjpVM6/ZT0g3Mti5nRAMBloA0ANnKKDRJABrRTzuY6jO1EhHasZJp3X5KuoHZ1uWMaCDAEpAGIFsZhSYJQCP6aQdTfaZWIkI7VjKt209JNzDbupwRDQRYAtIAZCuj0CQBaEQ/7WCqz9RKRGjHSqZ1+ynpBmZblzOigQBLQBqAbGUUmiQAjeinHUz1mVqJCO1YybRuPyXdwGzrckY0EGAJSAOQrYxCkwSgEf20g6k+UysRoR0rmdbtp6QbmG1dzogGAiwBaQCylVFokgA0op92MNVnaiUitGMl07r9lHQDs63LGdFAgCUgDUC2MgpNEoBG9NMOpvpMrUSEdqxkWrefkm5gtnU5IxoIsASkAchWRqFJAtCIftrBVJ+plYjQjpVM6/ZT0g3Mti5nRAMBloA0ANnKKDRJABrRTzuY6jO1EhHasZJp3X5KuoHZ1uWMaCDAEpAGIFsZhSYJQCP6aQdTfaZWIkI7VjKt209JNzDbupwRDQRYAtIAZCuj0CQBaEQ/7WCqz9RKRGjHSqZ1+ynpBmZblzOigQBLQBqAbGUUmiQAjeinHUz1mVqJCO1YybRuPyXdwGzrckY0EGAJSAOQrYxCkwSgEf20g6k+UysRoR0rmdbtp6QbmG1dzogGAiwBaQCylVFokgA0op92MNVnaiUitGMl07r9lHQDs63LGdFAgCUgDUC2MgpNEoBG9NMOpvpMrUSEdqxkWrefkm5gtnU5IxoIsASkAchWRqFJAtCIftrBVJ+plYjQjpVM6/ZT0g3Mti5nRAMBloA0ANnKKDRJABrRTzuY6jO1EhHasZJp3X5KuoHZ1uWMaCDAEpAGIFsZhSYJQCP6aQdTfaZWIkI7VjKt209JN1ObbRcQ/8AAGoAGoAFoABqABqABaAAaiDXA2fepzTYXDGUgAAI8AXcQwv9AYBwBaGQcnem+A9PpuGEriiYTwQEEJiUgHXOmcgBSsEkbhfogYIUAxoyVTE/fT2hkenbSlmAqkUH5SQSgnZMI4XuOgKQbmG2OFspAQJmANACVd4NwS0wAGtFPHpjqM7USEdqxkmndfkq6gdnW5YxoIMASkAYgWxmFJglAI/ppB1N9plYiQjtWMq3bT0k3MNu6nBENBFgC0gBkK6PQJAFoRD/tYKrP1EpEaMdKpnX7KekGZluXM6KBAEtAGoBsZRSaJACN6KcdTPWZWokI7VjJtG4/Jd3AbOtyRjQQYAlIA5CtjEKTBKAR/bSDqT5TKxGhHSuZ1u2npBuYbV3OiAYCLAFpALKVUWiSADSin3Yw1WdqJSK0YyXTuv2UdAOzrcsZ0UCAJSANQLbyKhb2d6hRvUr19k+53r2iXuczqlfLyY9klala/5S2Oj0a5Gqu+p/mNTKHBIPpHKAaCQntGEm0cjcl3cBsK4NGuEkIvKSDx+/Snc0fJ9loKetKA3ApOzNpo/vf0kb9Jl0tXR4x24NnLbpVXqP6xg71nLse9GhnvUbl8n1qH9my26Y1MqmmCtYH04KgUG2EALQzggQFBQhIuoHZHgvvBXUab1CpdJdaveNMzUGvQ61Gjcrpz9ZfpFqjRZ3eq0y9s/rjeHedLp87T5WRfx/Q1mG2L6fTxh9p6/brTHtez5rt/gFtt9bpzgXf9tfo+oM/0O7hYnCdlpU0AKeNtxzbJbPWtY9pp/MprY2Y7ZfUbb5JpbUmdUNfPdij5ho3C74cvZ62lTY1Mi2tYtuBaTFOqDVKANoZZYKSkwlIuoHZFtkNqN9Zp2pkpnNmO7olXqZS9bfUjsz1K+rt/I5q5dKocRDjW/siMdu3N+lQ7HpS58K79Mk3hzSgI9p/fI8unTtPlx5s05G43eJ/IQ3AxW/59C0cdJu0loyR6POI2f6J2vXLVK63c7mVyqdvyzJsaVEj884LmM6b8OrGh3ZWN7fz7JmkG5htiXpkqNeoVqvmZrYHdNS+T+VShWqtH4KtY4PAzYIHlSb66GbPt540qHaxQZ2zmIyWWjs4pN1//pwe3f4VPdrtS7Vy5UXN9hW6vv4NpVGPd+nRz85T5WfrtLtIDHK9O+lPaQCetN1Sf9//G/X68ZQ1a7ajGeyyaLZHZryXGsbJjTepkZOxzFQDTGfCZ3pjaMd0+qfuvKQbmG0WqVs+cpOqja+p27o7mdmeea3pEXXbn1OjdpFK5Ro1nvxpsqUpg+e0/eGNaLnGpXub9Nx5nf53tHH7ClUufEjbU6+DHVD/4Cv64/q7dOncFbqz/jl9setmn4v+r4jZZmJ5s33jMR0U3xkT6GyLpAF4tq06vb2zZvuoTfVyCWY7SYN1jcxDjWA6D6o2YkI7NvKs3UtJNzDbI6ST5SPVder0j6jTyM9sO/Pq3qwQLiMZUH9vg2rli1RrfjuclR2JLRUMqN/dplazTtVS/DaGVrs7RZxjOtz8Db23uU/7j9+myrm3aWN/n7buvU0fbT+fwBgH7XRrqDeb9PDaa1S59oA2Nr+ig2S2MqhV4GNitq+9Q3dcLLeW/MK79OjLgzH9HFB/9xO6fu4Kvbf5/XTtL9Cy06giDcDT2Pci7ANm++QsWNfIyYQmrwGmkzPDFjEBaAdKmIaApBuY7TzNzCvK+rzZdtt4w50+IFmi8q0WPZtk9rXfpXbr0/i1Z9U6NVvb1J3KyOY7QTQ4eEw3z71O16/dmMKoHtHB9iZtPHAz5Dfo4eNN2j6YdcW0W3/9Ad18sBmb9f4+bUXxxxjp/jf06NrrdP3DL+lwEq6jOM68RBqAZ96wU2oAa7axjCRD37pGMjCU/gBTJZAGw0A7BpOu0GVJNzDbGbjx20eGpjkw28/+Qq1bN6nR6RP1v6Vm7SKVa7+jndwDksNtM4GZP3zsElUaHVJfjny0TQ8vnKd0KQnTAqkofZPJvNdJJ22scA9NDr6nrXtXpmq/1K+zLJcG4Fm26TT3zZptkh6ElMpPs8Wnvy/rGpkHcTCdB1UbMaEdG3nW7qWkG5jtkHSvRbVgptpBy/5zbyV5Sb1oHXc1Nt7p9t48v0nN7su0dOyHec5sH35JH7nlGlOtdZ7HzDZDwq/Hzpv6ZN35pdu/p32lmX5m76daJA3AU23EGe6MN9vjXv1XobXm3lIvHZoUt3WNTMqrSH0wLUIJdTgC0A5HBWUnEZB0A7M9lpw30OGr/xKDMPIaM193ArOd7ltrzXYSMJoV/hXduf2LGR+KdMtldNZsR7PlF35NW8+D92X72ffMa/2S1/1d+4R2vdEe7NPGjV+f0fvB0yTN9EEagDMFXaKNebNNFP+oTfCsA37UZomyuvhNtT7uFj9Di9tCaGdxc7PILZN0A7M9Nmv+dX5ZAx0bh1KwjMQ/IDnFuu2R/c/4NhJ6Qbvr79Cdx9/R36Mftvk5Pdw+oN31DyZ4Td9Io9xP+830NpJ4acprw/XX6ZrtX9Kj3RfJDpMHInOmPF5/flY/xsOxmLxMGoCTR1rOLSSzTeT03gx+rt2Nqwa18HPty5noBWu19XG3YOlYquZAO0uVroVprKQbmG0xRcfJchG/lCSc3XYz0X+OX8+XLjVZo3qzrfaAo2vWZO/ZHtDR9ofxa/k+/tf4gUL/yj/3qr7H341564cIgf9iivdsDw536YvML0Oep0u312krfH1gNIOdvKlkYX75kkcwaak0ACeNg/qrSwAa0c8tmOoztRIR2rGSad1+SrqB2dbljGggwBKQBiBbGYUmCUAj+mkHU32mViJCO1YyrdtPSTcw27qcEQ0EWALSAGQro9AkAWhEP+1gqs/USkRox0qmdfsp6QZmW5czooEAS0AagGxlFJokAI3opx1M9ZlaiQjtWMm0bj8l3cBs63JGNBBgCUgDkK2MQpMEoBH9tIOpPlMrEaEdK5nW7aekG5htXc6IBgIsAWkAspVRaJIANKKfdjDVZ2olIrRjJdO6/ZR0A7OtyxnRQIAlIA1AtjIKTRKARvTTDqb6TK1EhHasZFq3n5JuYLZ1OSMaCLAEpAHIVkahSQLQiH7awVSfqZWI0I6VTOv2U9INzLYuZ0QDAZaANADZyig0SQAa0U87mOoztRIR2rGSad1+SrqB2dbljGggwBKQBiBbGYUmCUAj+mkHU32mViJCO1YyrdtPSTcw27qcEQ0EWALSAGQro9AkAWhEP+1gqs/USkRox0qmdfsp6QZmW5czooEAS0AagGxlFJokAI3opx1M9ZlaiQjtWMm0bj8l3cBs63JGNBBgCUgDkK2MQpMEoBH9tIOpPlMrEaEdK5nW7aekG5htXc6IBgIsAWkAspVRaJIANKKfdjDVZ2olIrRjJdO6/ZR0A7OtyxnRQIAlIA1AtjIKTRKARvTTDqb6TK1EhHasZFq3n5JuYLZ1OSMaCLAEpAHIVkahSQLQiH7awVSfqZWI0I6VTOv2U9INzLYuZ0QDAZaANADZyig0SQAa0U87mOoztRIR2rGSad1+SrqB2dbljGggwBKQBiBbGYUmCUAj+mkHU32mViJCO1YyrdtPSTcw27qcEQ0EWALSAGQro9AkAWhEP+1gqs/USkRox0qmdfsp6QZmW5czooEAS0AagGxlFJokAI3opx1M9ZlaiQjtWMm0bj8l3cBs63JGNBBgCUgDkK2MQpMEoBH9tIOpPlMrEaEdK5nW7aekG5htXc6IBgIsAWkAspVRaJIANKKfdjDVZ2olIrRjJdO6/ZR0A7OtyxnRQIAlIA1AtjIKTRKARvTTDqb6TK1EhHasZFq3n5JuYLZ1OSMaCLAEpAHIVkahSQLQiH7awVSfqZWI0I6VTOv2U9INzLYuZ0QDAZaANADZyig0SQAa0U87mOoztRIR2rGSad1+SrqZ2my7gPgHBtAANAANQAPQADQADUAD0ECsAc6+T222uWAoAwEQ4Am4gxD+BwLjCEAj4+hM9x2YTscNW1E0mQgOIDApAemYM5UDkIJN2ijUBwErBDBmrGR6+n5CI9Ozk7YEU4kMyk8iAO2cRAjfcwQk3cBsc7RQBgLKBKQBqLwbhFtiAtCIfvLAVJ+plYjQjpVM6/ZT0g3Mti5nRAMBloA0ANnKKDRJABrRTzuY6jO1EhHasZJp3X5KuoHZ1uWMaCDAEpAGIFsZhSYJQCP6aQdTfaZWIkI7VjKt209JNzDbupwRDQRYAtIAZCuj0CQBaEQ/7WCqz9RKRGjHSqZ1+ynpBmZblzOigQBLQBqAbGUUmiQAjeinHUz1mVqJCO1YybRuPyXdwGzrckY0EGAJSAOQrYxCkwSgEf20g6k+UysRoR0rmdbtp6QbmG1dzogGAiwBaQCylVexsL9DjepVqrd/Gu3doEedjTpV/Q9lVeu00enRYLTmSpeY18gcsgumc4BqJCS0YyTRyt2UdAOzrQwa4WYkMNinjRu/pq3D4xkDLdbm0gBcrFbOqTX9b2mjfpOuli6Pmu3BX6l1q0q15rfUj3Z/RN3WfaqW3qRm9+WcGrSYYU1rZE4pAdM5gTUQFtoxkOQ5dFHSzeqa7WgmrUylWot6GaCvqNdpUaN2cfhz8+UaNVod6olTaZNtM+jt0EZ9jSqNDi2OZezT7vovqHLu/Oi/25t0mGF0Sn8cbtIdrj3nPmDN9uDwG/r9gxt0eX33RK6Dw13aWn+XLvn4F96lR18eJIbulPoX7EYagEGVFfzoxs1nVK99TDudT2ltxGwP6Kh9n8rl+9Q+CgffT9SuX6ZyvU1HK0hF6pJNjUg0dMrBVIejxSjQjsWsz95nSTcrarZfUKfxRmymM2Z7QP3OOlVLZarefxqb60GPdtZrVC6Vaa25x9y6nmCb3O3wxTLbs4tIPUJktl+nO5s/jg89OKTdzx7Q9cQ4n2i2+9/Qo2uv0aXb/53+/fAVER3R/uN7dOncFXpv83smx+N3r/GtNAA1Yi9qjEG3SWvV31K794qizyNm26aplvJlUSMSC61yMNUiaS8OtGMv5xo9lnSzgmY7McfVt6hWzc9sxyf3UukutXrBnPNRm+rlEo3Ogjv0Rbf5gVq37lLjaZdedBpUKZXmMrM96HVo60mDahcb1Am6oCGSWWK4meQvWut058o67RZtVyGz/SNt3fsgmpX+++46XT53/oSZ7WM63PyAKud+Tg+3g/XBR9v08MJ5qtx4TAfhJOosnZ5gW2kAThBi+ar2/0a9fgybNduDPWquVWit+W+0125S3Y3XUonKtXV62rU0px2n1qRG5qxqMJ0z4BUOD+2scHLn2DVJN6tntqPlIzep0fkPatUqlDXQ440zf9t68m2O1c32EXXbn8dLX9ySlyd/ok7PzdgW+9/g8Ev66NprVElndgfU3/893blwni492J7hVv0RHWz/Ez26fYUqbplG619oN5pJLtYuKmS2h7GOC5ltv1wmvxTlR9q6/TpVLnxI25klC8P48/wkDcB57nORYrNmO7rILdPVapXW/J0mGlB/b4Nqlfep9ay4xhepr9O2xbpGpuU2bjswHUcH340jAO2Mo4PvJAKSblbMbLvlIzep2tih/nGHGpX8bDWzJISOaK95i8rlW9Tc42bTJt9Gx2wPqN/dplbTvaWhTNX6p9Rqd6dYc+xmhn9DWz/+L9q48Vo0s7v/4ya9d+MfaXsSY5wqa0D9g69o67Fb1vEaXX/QpK3tKddCR2b7Nbp++510icil259Q+4DLA1Exs/2SDh6/TZVzv6BHu/Ejd3HTE7MtrAdPuzenD9IAnNPuFi6sbLZLVFprUjdztyG+wOUvfheua2oNsq4RNZBBIDANYODjRASgnYlwoXJCQNLNCpntxBT7h61Ys+1oePNcGj4gWbpIt1p/HbOWd7JtZjLb/S61W5/Gt9SrdWq2tqmb3IqfTc2JCb3wX+j6tf9KW88nnDXsH9D2ZpMeuhnyaw9oY/MrOpi1Xf3vaOP22/Rwc5/6Li8Hm3H8C79m21fMbA+ov/tJZN4v3f497UdtPKKDLz+JZvIxsz2biqbdepzZHjXVL6nbfJMx4dPufTm2kw7Sy9H6xWwlmC5mXpahVdDOMmRp8doo6WZ1zHa0fOTy0DQHZvvZsxbditY4J7eoyxeptv517gFJyXBPvs30ZrtPnUY1ugjQf7hyQEfbH075kKBfmnHSeulZhe/byD80WcxsuzYE5to9VOmWuPzTemy2sWZ71iRNtT1rtpPnIWC2Y6TSQXoq4NgoIgCmEMK0BKCdacnZ3k7SzYqY7WPqte4GM9XhrHXyOXoryQ/xOu5K7uFCb8xHbmc70Uy+zfRmm4jmNrP9ig63/zFa+nHz8f6YWXxhoMxjZpvZ1ThDPe47JlSmaPB8k9678BpN1fdMpOn+kAbgdNGWbyvebL+iZ633hVf/XY2Xgy1fV6dusXWNTA1uzIZgOgYOvhpLANoZiwdfCgQk3ayI2WZ67Q10+Oq/6O0HZSr5pSZ+M1+XM9tTbDOT2fZtcssqVNZsxwEjs3njHbrjXok300ORWmu249nyS/c26Xm6XtfPbOfeJJIwmd5sv6Dd9V9SRViekiKf4wdpAM5xlwsVmjfb7uLS/bJkJTDWr6i38zs8ILlQ2Vvexlgfd8ububNvObRz9jlYxhZIullds+1f55cx0Mla0FKwjMQ/IJmu2/ZLOarU6LgH7IpsE0oima1zrzC71aJnqZEM60z6eba3kZB77/SND2hj/3n8wzbujRzP/wc9+uUnxV/TxzZ5lreR+KUpN+ij7ec0CNdsX/uEdkfWg7+i55u/jn6kJmvQxz84mf64zYV7tLHPP3jJdk25UBqAyrtZ2HCi2XYt7nfpacO96z6+C4VX/y1sGpeuYdbH3dIlbIEaDO0sUDKWqCmSblbUbCdLP5KTd/b1f0fUfbpONfdebf+9exAxfdNH3my7LJ+0jaszZilLOLs+o2gme8/2T7T94OfRmuVPvjmMDW3yyr+Ksvmc/D3br+hw91/oj+GvPJ67QnfWN3OvD/TvzZZ/+ZKd8R58T1v3rlDl3A16+PhPuZgzJmGKzaUBOEUobLKiBKAR/cSCqT5TKxGhHSuZ1u2npJsVNdu68BANBGYlIA3AWeNi+9UhAI3o5xJM9ZlaiQjtWMm0bj8l3cBs63JGNBBgCUgDkK2MQpMEoBH9tIOpPlMrEaEdK5nW7aekG5htXc6IBgIsAWkAspVRaJIANKKfdjDVZ2olIrRjJdO6/ZR0A7OtyxnRQIAlIA1AtjIKTRKARvTTDqb6TK1EhHasZFq3n5JuYLZ1OSMaCLAEpAHIVkahSQLQiH7awVSfqZWI0I6VTOv2U9INzLYuZ0QDAZaANADZyig0SQAa0U87mOoztRIR2rGSad1+SrqB2dbljGggwBKQBiBbGYUmCUAj+mkHU32mViJCO1YyrdtPSTcw27qcEQ0EWALSAGQro9AkAWhEP+1gqs/USkRox0qmdfsp6QZmW5czooEAS0AagGxlFJokAI3opx1M9ZlaiQjtWMm0bj8l3cBs63JGNBBgCUgDkK2MQpMEoBH9tIOpPlMrEaEdK5nW7aekG5htXc6IBgIsAWkAspVRaJIANKKfdjDVZ2olIrRjJdO6/ZR0A7OtyxnRQIAlIA1AtjIKTRKARvTTDqb6TK1EhHasZFq3n5JuYLZ1OSMaCLAEpAHIVkahSQLQiH7awVSfqZWI0I6VTOv2U9INzLYuZ0QDAZaANADZyig0SQAa0U87mOoztRIR2rGSad1+SrqB2dbljGggwBKQBiBbGYUmCUAj+mkHU32mViJCO1YyrdtPSTcw27qcEQ0EWALSAGQro9AkAWhEP+1gqs/USkRox0qmdfsp6QZmW5czooEAS0AagGxlFJokAI3opx1M9ZlaiQjtWMm0bj8l3cBs63JGNBBgCUgDkK2MQpMEoBH9tIOpPlMrEaEdK5nW7aekG5htXc6IBgIsAWkAspVRaJIANKKfdjDVZ2olIrRjJdO6/ZR0A7OtyxnRQIAlIA1AtjIKTRKARvTTDqb6TK1EhHasZFq3n5JuYLZ1OSMaCLAEpAHIVkahSQLQiH7awVSfqZWI0I6VTOv2U9INzLYuZ0QDAZaANADZyig0SQAa0U87mOoztRIR2rGSad1+SrqB2dbljGggwBKQBiBbGYUmCUAj+mkHU32mViJCO1YyrdtPSTcw27qcEQ0EWALSAGQro9AkAWhEP+1gqs/USkRox0qmdfsp6QZmW5czooEAS0AagGxlFJokAI3opx1M9ZlaiQjtWMm0bj8l3cBs63JGNBBgCUgDkK2MQpMEoBH9tIOpPlMrEaEdK5nW7aekm6nNtguIf2AADUAD0AA0AA1AA9AANAANxBrg7PvUZpsLhjIQAAGegDsI4X8gMI4ANDKOznTfgel03LAVRZOJ4AACkxKQjjlTOQAp2KSNQn0QsEIAY8ZKpqfvJzQyPTtpSzCVyKD8JALQzkmE8D1HQNINzDZHC2UgoExAGoDKu0G4JSYAjegnD0z1mVqJCO1YybRuPyXdwGzrckY0EGAJSAOQrYxCkwSgEf20g6k+UysRoR0rmdbtp6QbmG1dzogGAiwBaQCylVFokgA0op92MNVnaiUitGMl07r9lHQDs63LGdFAgCUgDUC2MgpNEoBG9NMOpvpMrUSEdqxkWrefkm5gtnU5IxoIsASkAchWRqFJAtCIftrBVJ+plYjQjpVM6/ZT0g3Mti5nRAMBloA0ANnKKDRJABrRTzuY6jO1EhHasZJp3X5KuoHZ1uWMaBMReEkHj9+lO5s/TrTVyZXnFffkPUs1pAEo1V+58v4ONapXqd7+abRrgx51NupU9T+UVa3TRqdHg9GaK11iXiNzyC6YzgGqkZDQjpFEK3dT0s2KmO0X1Gm8QaXSXWr1jrPo3Im81aBaefjrTuVag1qFTuYD6nfWqVqqUK31QzZuv0vtJ2HcMlXrn1Gn9ypb74z+Ot5dp8vnzlNl5N8HtHWYY3QqbfyRtm6/zrTndd5sDw5p97MHdP1n67Q7trlF476iw91NenT7yrANF96lR5u7dHgKrk4agKeC/qx30v+WNuo36Wrp8qjZHvyVWreqVGt+S/2onUfUbd2naulNanZfnnXLT3X/pjUyJ9JgOiewBsJCOwaSPIcuSrpZAbPtDbEz03mz7U34Gt1vP4tmyga9r2m9dpFKRU7m0WxcmUojZvsHatUqVCrXaH3HzcAd0V7zFpVLJSrX23Q0hwQuf8jEFN/epMOxnXGm+A/08NprsSkuarbHxh1Qf/cTun7uNbr+4ZexuR4c0r9//C5dOvca3Xy8P/dZVGkAjkWx9F++ol7nM6rXPqadzqe0NmK2B3TUvk/l8n1qH4VXPD9Ru37Z3FiyqZH5ihxM58t3laNDpDUvQAAACtlJREFUO6uc3fn1TdLN8pvtyBCvUa1WHTXbR22quxntWot6KdvkBD9ioNMKyQdn1G9StfYWM7PtzPZFqjZ2ktk4IjruUKNSolKlQZ2xM7H5/ch/D3od2nKz5xf1Ysp7m+AbN+v8z5/To9u/oke78XzkyVsXMdvHdLj5G7qz/pQOXnxDj352nioqZvsn2n7wc6qcy83qH23TwwvnqTLWqJ/csyI1pAFYZNtlrTPoNmmt+ltq915R9HnEbNs01VI+LWpEYqFVDqZaJO3FgXbs5Vyjx5JultxsJ4a48TV1W3cnNNvMLe2UdDJbXl2nTvcJ1U405oHZXmtSN5ykS2MW/XBE3fbn1HCz7+UaNZ78abKlKYPntP3hjWhW+NK9TXru2tL/jjbc8okLH9J2ZgaxaJtcvQH1D76iP6672eArdGf9c/pi93CCGeEiZjtoz/HuqZntSw+25343QhqAQY9X72P/b9Trx4OBNduDPWquVWit+W+0125SveruIpWoXFunp11794dMamTOqgfTOQNe4fDQzgond45dk3SzxGY7MMT9I+o0mJltGl1GQv1vqVm7SOXaBu0lRmCEezRbfpManRd03GlQ5USz7ZeyXKRbrb9OYED9ngfU725Tq+keEnNrvz+lVrs7nDX31U78bzwz/N7mPu0/fpsq596mjf192rr3Nn20/XyKdjmjfkDbm814Wce1B7Sx+RUdSNzGti8x29feoTt+iYhbM/3lAd/PSc322LjMMhI6ov3H9+jShXu0sT9/YycNwLHIVuhL1mxHd57KdLVapbX7T6kX+fIB9fc2qFZ5n1rPFuP5h9NKg3WNzIMzmM6Dqo2Y0I6NPGv3UtLN8prtzNsN+oLZdhi94R4+IFkqjzuRx/X92utCZjtqS4WqqWEomD73kGXr03hGr1qnZmubulMZ2dH9DQ4e081zr9P1azfovc3vJzTaR3SwvUkbD9wM+Q16+HiTtg9mNaTO3H5ANx9sxma9v09bUfwrfPsKm+2icb3hDh8aFfY9inPmEmkAzhx4SQLIZrtEpZG7QTaXl1jXyDykDKbzoGojJrRjI8/avZR0s6RmOzHEt1r0LJoNC8z2s79Q65ablXZriZMHF9MHGYnSByRZw53MUAffDc32X+hZ63262OhQZkl29DaFi1RO21I0db7NJarkYxYNMa5esh45XUoyrm7uu/RNJieul85tOOmf49ZMFzbbzE5H4g6ov/97unPhCt35+F9zD0iejuGWBiDT+pUsGme2/YXtsOMvqdt8kzHhwxqr+Mm6RuaRUzCdB1UbMaEdG3nW7qWkm+U0270W1fw7edn/Jm8lSerlzWxsoMu01tzLzfgmbxlhY7qZ8dwrAAfPqH1/bfySlHGZnOfM9uGX9JFbrnHjMR3Ey2bHtST33TxmtnO7cH+OM9TjvmNCZYpGtk2WsOQvHny9qRhl9njiH9IAPHHDFanAmm2SZrBhtlck7WfeDevj7swTsMQNgHaWOHln2HRJN8tptkdA+lni7Kv/4hP86Ov4ZLM9EnjMmu1k1tw9ROmXfkQPfL0/+q7v0bC5Eq0120nYwfe0de9XdOf2L2Z8KFJvzXY0W37h17T1PFiH62ffuQcUvRHOG+QcuUJxB/u0ceO1URZ+HzDbOar6f/Jm+1V0t4h/9d/V7Nt+9Ju0cBGlg/TCNXSJGgSmS5SsBWsqtLNgCVmS5ki6WRGzHc+Qjbw7OzK/5eB92M48xg9Ipuu2x76yz78mMD8LPrrcxOkgNhRZwz+5PmZ8Gwm9oN31d+jO4+/o79EP2/ycHm4f0O76BxO8po9r9WxvI4mXpgTvuU7XbP+SHu2+GNnh4Pkmvedey5c36N4gJya8WFz3i5LugdFgGYl/QPIclpGMwJ9DAW+23Xh0vyxZCYz1K+rt/A4PSM4hBxZDSic+iyzQ58kIQDuT8ULtmICkmxUw28fUi1775x+AzJndfpeeNmrRD844CKXobR9NavtXi40z25nlKsESEm/i2eUmuf3PoMDJ3rM9oKPtD+PX8vl1yf6Vf85kPv6Of+vHNO2b4j3bg8Nd+qK1TnecgU5+1fLS7XXayr8+8HCT7oz86qXbJnlHds5sF45LR3Tw5SeZ/Vfc21W2hbehTMNlzDbSAByzyUp9JZpt18vcGMWr/1Yq9WfaGevj7kzhL/nOoZ0lT+AZNV/SzQqY7TMiit2CwAQEpAE4QQhUXXEC0Ih+gsFUn6mViNCOlUzr9lPSDcy2LmdEAwGWgDQA2cooNEkAGtFPO5jqM7USEdqxkmndfkq6gdnW5YxoIMASkAYgWxmFJglAI/ppB1N9plYiQjtWMq3bT0k3MNu6nBENBFgC0gBkK6PQJAFoRD/tYKrP1EpEaMdKpnX7KekGZluXM6KBAEtAGoBsZRSaJACN6KcdTPWZWokI7VjJtG4/Jd3AbOtyRjQQYAlIA5CtjEKTBKAR/bSDqT5TKxGhHSuZ1u2npBuYbV3OiAYCLAFpALKVUWiSADSin3Yw1WdqJSK0YyXTuv2UdAOzrcsZ0UCAJSANQLYyCk0SgEb00w6m+kytRIR2rGRat5+SbmC2dTkjGgiwBKQByFZGoUkC0Ih+2sFUn6mViNCOlUzr9lPSDcy2LmdEAwGWgDQA2cooNEkAGtFPO5jqM7USEdqxkmndfkq6gdnW5YxoIMASkAYgWxmFJglAI/ppB1N9plYiQjtWMq3bT0k3MNu6nBENBFgC0gBkK6PQJAFoRD/tYKrP1EpEaMdKpnX7KekGZluXM6KBAEtAGoBsZRSaJACN6KcdTPWZWokI7VjJtG4/Jd3AbOtyRjQQYAlIA5CtjEKTBKAR/bSDqT5TKxGhHSuZ1u2npBuYbV3OiAYCLAFpALKVUWiSADSin3Yw1WdqJSK0YyXTuv2UdAOzrcsZ0UCAJSANQLYyCk0SgEb00w6m+kytRIR2rGRat5+SbmC2dTkjGgiwBKQByFZGoUkC0Ih+2sFUn6mViNCOlUzr9lPSDcy2LmdEAwGWgDQA2cooNEkAGtFPO5jqM7USEdqxkmndfkq6gdnW5YxoIMASkAYgWxmFJglAI/ppB1N9plYiQjtWMq3bT0k3MNu6nBENBFgC0gBkK6PQJAFoRD/tYKrP1EpEaMdKpnX7KekGZluXM6KBAEtAGoBsZRSaJACN6KcdTPWZWokI7VjJtG4/Jd3AbOtyRjQQYAlIA5CtjEKTBKAR/bSDqT5TKxGhHSuZ1u2npBuYbV3OiAYCLAFpALKVUWiSADSin3Yw1WdqJSK0YyXTuv2UdAOzrcsZ0UCAJSANQLYyCk0SgEb00w6m+kytRIR2rGRat5+SbmC2dTkjGgiwBKQByFZGoUkC0Ih+2sFUn6mViNCOlUzr9lPSDcy2LmdEAwGWgDQA2cooNEkAGtFPO5jqM7USEdqxkmndfkq6mdpsu4D4BwbQADQADUAD0AA0AA1AA9BArAHOvk9ttrlgKAMBEOAJuIMQ/gcC4whAI+PoTPcdmE7HDVtRNJkIDiAwKQHpmAMHMClJ1AcBEAABEAABEAABEACBggRgtguCQjUQAAEQAAEQAAEQAAEQmJQAzPakxFAfBEAABEAABEAABEAABAoSgNkuCArVQAAEQAAEQAAEQAAEQGBSAjDbkxJDfRAAARAAARAAARAAARAoSMC9p4Si/8N2F0SGaiAAAiAAAiAAAiAAAiBQjMD/B+Lyf3xxUC2mAAAAAElFTkSuQmCC)"
      ]
    },
    {
      "cell_type": "code",
      "metadata": {
        "colab": {
          "base_uri": "https://localhost:8080/"
        },
        "id": "L5TjJaaw7Ty0",
        "outputId": "5a5476d5-7949-4945-81d0-34f30bfff121"
      },
      "source": [
        "obs=([[18,22,20],[2,28,40],[20,10,40]])\n",
        "result=chi2_contingency(obs)\n",
        "print(f\"Chi Square value is {result[0]}\")\n",
        "print(f\"Critical region with 4df and alpha=0.001 is 18.47\")\n",
        "print(\"We reject null hypothesis.There is significant relationship between age and photograph preference\")\n"
      ],
      "execution_count": null,
      "outputs": [
        {
          "output_type": "stream",
          "text": [
            "Chi Square value is 29.603174603174608\n",
            "Critical region with 4df and alpha=0.001 is 18.47\n",
            "We reject null hypothesis.There is significant relationship between age and photograph preference\n"
          ],
          "name": "stdout"
        }
      ]
    },
    {
      "cell_type": "markdown",
      "metadata": {
        "id": "O2ah1-e17cVd"
      },
      "source": [
        "Problem Statement 21:\n",
        "A study of conformity using the Asch paradigm involved two conditions: one where one confederate supported the true judgement and another where no confederate gave the correct response.\n",
        "\n",
        "![image.png](data:image/png;base64,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)"
      ]
    },
    {
      "cell_type": "markdown",
      "metadata": {
        "id": "yGznzRXJ7jRx"
      },
      "source": [
        "Is there a significant difference between the \"support\" and \"no support\" conditions in the frequency with which individuals are likely to conform? [Chi-Square = 19.87, with 1 df: 𝑝 < 0.05]."
      ]
    },
    {
      "cell_type": "code",
      "metadata": {
        "colab": {
          "base_uri": "https://localhost:8080/"
        },
        "id": "c_b-NLSL7mQg",
        "outputId": "da5217a5-7659-45f8-e93f-3537cd61d27a"
      },
      "source": [
        "result=chi2_contingency(obs)\n",
        "print(f\"Chi Square value is {result[0]}\")\n",
        "print(f\"Critical region with 1df and alpha=0.001 is 10.83\")\n",
        "print(\"We reject null hypoythesis.So,there is significant difference between the 'support' and 'no support' conditions in the frequency with which individuals are likely to conform\")\n"
      ],
      "execution_count": null,
      "outputs": [
        {
          "output_type": "stream",
          "text": [
            "Chi Square value is 29.603174603174608\n",
            "Critical region with 1df and alpha=0.001 is 10.83\n",
            "We reject null hypoythesis.So,there is significant difference between the 'support' and 'no support' conditions in the frequency with which individuals are likely to conform\n"
          ],
          "name": "stdout"
        }
      ]
    },
    {
      "cell_type": "markdown",
      "metadata": {
        "id": "xe_8PMpV72iv"
      },
      "source": [
        "Problem Statement 22:\n",
        "We want to test whether short people differ with respect to their leadership qualities (Genghis Khan, Adolf Hitler and Napoleon were all stature-deprived, and how many midget MP's are there?) The following table shows the frequencies with which 43 short people and 52 tall people were categorized as \"leaders\", \"followers\" or as \"unclassifiable\". Is there a relationship between height and leadership qualities? [Chi-Square = 10.71, with 2 df: 𝑝 < 0.01].\n",
        "\n",
        "![image.png](data:image/png;base64,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)"
      ]
    },
    {
      "cell_type": "code",
      "metadata": {
        "colab": {
          "base_uri": "https://localhost:8080/"
        },
        "id": "k4A7lOuy8V8R",
        "outputId": "a57d08de-3896-4a90-c312-1a5d325c2cb3"
      },
      "source": [
        "obs=([[12,32],[22,14],[9,6]])\n",
        "result=chi2_contingency(obs)\n",
        "print(f\"Chi Square value is {result[0]}\")\n",
        "print(f\"Critical region with 2df and alpha=0.001 is 13.82\")\n",
        "print(\"We accept null hypothesis.there is no relationship between height and leadership qualities\")"
      ],
      "execution_count": null,
      "outputs": [
        {
          "output_type": "stream",
          "text": [
            "Chi Square value is 10.712198008709638\n",
            "Critical region with 2df and alpha=0.001 is 13.82\n",
            "We accept null hypothesis.there is no relationship between height and leadership qualities\n"
          ],
          "name": "stdout"
        }
      ]
    },
    {
      "cell_type": "markdown",
      "metadata": {
        "id": "5VrQuBmI8a95"
      },
      "source": [
        "Problem Statement 23:\n",
        "Each respondent in the Current Population Survey of March 1993 was classified as employed, unemployed, or outside the labor force. The results for men in California age 35- 44 can be cross-tabulated by marital status, as follows:\n",
        "\n",
        "![image.png](data:image/png;base64,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)"
      ]
    },
    {
      "cell_type": "markdown",
      "metadata": {
        "id": "Uy_Td1Bq8hdW"
      },
      "source": [
        "Men of different marital status seem to have different distributions of labor force status. Or is this just chance variation? (you may assume the table results from a simple random sample.)"
      ]
    },
    {
      "cell_type": "code",
      "metadata": {
        "colab": {
          "base_uri": "https://localhost:8080/"
        },
        "id": "9CyrBWFh8Bjw",
        "outputId": "fce74f90-9e29-4b49-eaf8-08c8bf486faf"
      },
      "source": [
        "obs = np.array([[679,103,114], [63,10,20],[42,18,25]])\n",
        "result=chi2_contingency(obs)\n",
        "print(f\"Chi Square value is {result[0]}\")\n",
        "print(f\"Critical region with 4df and alpha=0.001 is 18.47\")\n",
        "print(\"We reject null hypothesis at alpha=0.001 .there is relationship between martial status and employment status\")"
      ],
      "execution_count": null,
      "outputs": [
        {
          "output_type": "stream",
          "text": [
            "Chi Square value is 31.61310319407798\n",
            "Critical region with 4df and alpha=0.001 is 18.47\n",
            "We reject null hypothesis at alpha=0.001 .there is relationship between martial status and employment status\n"
          ],
          "name": "stdout"
        }
      ]
    }
  ]
}